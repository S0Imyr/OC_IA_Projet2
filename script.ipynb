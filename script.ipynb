{
 "cells": [
  {
   "cell_type": "code",
   "execution_count": 142,
   "metadata": {},
   "outputs": [],
   "source": [
    "import numpy as np\n",
    "import pandas as pd\n",
    "import seaborn as sns\n",
    "import matplotlib.pyplot as plt"
   ]
  },
  {
   "cell_type": "markdown",
   "metadata": {},
   "source": [
    "# Exploration des données"
   ]
  },
  {
   "cell_type": "markdown",
   "metadata": {},
   "source": [
    "## Général\n",
    "\n",
    "La base de données est constitué des arbres relevant de la ville de Paris. </br>\n",
    "Cela inclut les arbres d’alignement (dans les rues), ceux des espaces verts et des équipements publics municipaux. </br>\n",
    "Elle n’inclut pas les bosquets, les ensembles forestiers, les arbres du domaine privé etc. </br>"
   ]
  },
  {
   "cell_type": "code",
   "execution_count": 143,
   "metadata": {},
   "outputs": [],
   "source": [
    "data = pd.read_csv(\"data\\p2-arbres-fr.csv\", sep=\";\")\n",
    "arbres = data.copy()"
   ]
  },
  {
   "cell_type": "code",
   "execution_count": 144,
   "metadata": {},
   "outputs": [
    {
     "data": {
      "text/plain": [
       "(200137, 18)"
      ]
     },
     "execution_count": 144,
     "metadata": {},
     "output_type": "execute_result"
    }
   ],
   "source": [
    "arbres.shape"
   ]
  },
  {
   "cell_type": "code",
   "execution_count": 145,
   "metadata": {},
   "outputs": [
    {
     "data": {
      "text/plain": [
       "Index(['id', 'type_emplacement', 'domanialite', 'arrondissement',\n",
       "       'complement_addresse', 'numero', 'lieu', 'id_emplacement',\n",
       "       'libelle_francais', 'genre', 'espece', 'variete', 'circonference_cm',\n",
       "       'hauteur_m', 'stade_developpement', 'remarquable', 'geo_point_2d_a',\n",
       "       'geo_point_2d_b'],\n",
       "      dtype='object')"
      ]
     },
     "execution_count": 145,
     "metadata": {},
     "output_type": "execute_result"
    }
   ],
   "source": [
    "arbres.columns  "
   ]
  },
  {
   "cell_type": "markdown",
   "metadata": {},
   "source": [
    "La base de données est constituée  de :\n",
    " - 200 137 arbres\n",
    " - pour 18 colonnes (dont un identifiant)."
   ]
  },
  {
   "cell_type": "markdown",
   "metadata": {},
   "source": [
    "Procédons à une analyse, colonne par colonne :"
   ]
  },
  {
   "cell_type": "markdown",
   "metadata": {},
   "source": [
    "## 1 Identifiant"
   ]
  },
  {
   "cell_type": "code",
   "execution_count": 146,
   "metadata": {},
   "outputs": [
    {
     "data": {
      "text/plain": [
       "True"
      ]
     },
     "execution_count": 146,
     "metadata": {},
     "output_type": "execute_result"
    }
   ],
   "source": [
    "sum(arbres['id'].unique() == (arbres['id'])) == arbres.shape[0]"
   ]
  },
  {
   "cell_type": "markdown",
   "metadata": {},
   "source": [
    "On ne détecte aucun doublon dans les identifiants. La colonne sera inutile pour le reste de l'analyse."
   ]
  },
  {
   "cell_type": "markdown",
   "metadata": {},
   "source": [
    "## 2 Type d'emplacement"
   ]
  },
  {
   "cell_type": "code",
   "execution_count": 147,
   "metadata": {},
   "outputs": [
    {
     "data": {
      "text/plain": [
       "array(['Arbre'], dtype=object)"
      ]
     },
     "execution_count": 147,
     "metadata": {},
     "output_type": "execute_result"
    }
   ],
   "source": [
    "arbres['type_emplacement'].unique()"
   ]
  },
  {
   "cell_type": "markdown",
   "metadata": {},
   "source": [
    "La colonne est inutile car remplie de la même information."
   ]
  },
  {
   "cell_type": "markdown",
   "metadata": {},
   "source": [
    "## 3 Domanialite \n",
    "Donnée qualitative. </br>\n",
    "Renseigne sur le type d'endroit : </br>\n",
    " - \"DASCO\" : \"Ecoles\"\n",
    " - \"DJS\" : \"Equipements sportifs\"\n",
    " - \"DFPE\" : \"Crèches\"\n",
    " - \"DAC\" : \"Equipements culturels\"\n",
    " - \"DASES\" : \"Action sociale\"\n",
    " - Alignement : rues\n"
   ]
  },
  {
   "cell_type": "code",
   "execution_count": 148,
   "metadata": {},
   "outputs": [
    {
     "data": {
      "text/plain": [
       "array(['Jardin', 'Alignement', 'DJS', 'DFPE', 'CIMETIERE', 'DASCO', 'DAC',\n",
       "       'PERIPHERIQUE', 'DASES', nan], dtype=object)"
      ]
     },
     "execution_count": 148,
     "metadata": {},
     "output_type": "execute_result"
    }
   ],
   "source": [
    "domaine = arbres['domanialite']\n",
    "domaine.unique()"
   ]
  },
  {
   "cell_type": "code",
   "execution_count": 149,
   "metadata": {},
   "outputs": [
    {
     "data": {
      "text/plain": [
       "Alignement      104949\n",
       "Jardin           46262\n",
       "CIMETIERE        31926\n",
       "DASCO             6422\n",
       "PERIPHERIQUE      5327\n",
       "DJS               3900\n",
       "DFPE              1325\n",
       "DAC                 21\n",
       "DASES                4\n",
       "Name: domanialite, dtype: int64"
      ]
     },
     "execution_count": 149,
     "metadata": {},
     "output_type": "execute_result"
    }
   ],
   "source": [
    "domaine.value_counts()"
   ]
  },
  {
   "cell_type": "markdown",
   "metadata": {},
   "source": [
    "## 4 Arrondissement\n",
    "Variable qualitative. </br>\n",
    "Il s'agit de l'arrondissement de Paris, ou du département/bois (hors de la ville de Paris)."
   ]
  },
  {
   "cell_type": "code",
   "execution_count": 150,
   "metadata": {},
   "outputs": [
    {
     "data": {
      "text/plain": [
       "array(['PARIS 7E ARRDT', 'PARIS 17E ARRDT', 'PARIS 16E ARRDT',\n",
       "       'PARIS 4E ARRDT', 'PARIS 13E ARRDT', 'PARIS 12E ARRDT',\n",
       "       'PARIS 19E ARRDT', 'PARIS 14E ARRDT', 'PARIS 15E ARRDT',\n",
       "       'PARIS 3E ARRDT', 'PARIS 20E ARRDT', 'PARIS 18E ARRDT',\n",
       "       'PARIS 6E ARRDT', 'PARIS 11E ARRDT', 'PARIS 1ER ARRDT',\n",
       "       'PARIS 2E ARRDT', 'PARIS 5E ARRDT', 'VAL-DE-MARNE',\n",
       "       'SEINE-SAINT-DENIS', 'HAUTS-DE-SEINE', 'PARIS 9E ARRDT',\n",
       "       'PARIS 10E ARRDT', 'PARIS 8E ARRDT', 'BOIS DE BOULOGNE',\n",
       "       'BOIS DE VINCENNES'], dtype=object)"
      ]
     },
     "execution_count": 150,
     "metadata": {},
     "output_type": "execute_result"
    }
   ],
   "source": [
    "arrondissement = arbres['arrondissement']\n",
    "arrondissement.unique()"
   ]
  },
  {
   "cell_type": "code",
   "execution_count": 151,
   "metadata": {},
   "outputs": [
    {
     "data": {
      "text/plain": [
       "PARIS 15E ARRDT      17151\n",
       "PARIS 13E ARRDT      16712\n",
       "PARIS 16E ARRDT      16403\n",
       "PARIS 20E ARRDT      15340\n",
       "PARIS 19E ARRDT      13709\n",
       "PARIS 12E ARRDT      12600\n",
       "SEINE-SAINT-DENIS    11570\n",
       "BOIS DE VINCENNES    11510\n",
       "PARIS 14E ARRDT      11399\n",
       "PARIS 17E ARRDT      10762\n",
       "PARIS 18E ARRDT      10011\n",
       "PARIS 7E ARRDT        8617\n",
       "VAL-DE-MARNE          7580\n",
       "PARIS 8E ARRDT        7245\n",
       "PARIS 11E ARRDT       5658\n",
       "HAUTS-DE-SEINE        5298\n",
       "BOIS DE BOULOGNE      3978\n",
       "PARIS 10E ARRDT       3385\n",
       "PARIS 4E ARRDT        2740\n",
       "PARIS 5E ARRDT        2368\n",
       "PARIS 6E ARRDT        1764\n",
       "PARIS 1ER ARRDT       1413\n",
       "PARIS 3E ARRDT        1209\n",
       "PARIS 9E ARRDT        1167\n",
       "PARIS 2E ARRDT         548\n",
       "Name: arrondissement, dtype: int64"
      ]
     },
     "execution_count": 151,
     "metadata": {},
     "output_type": "execute_result"
    }
   ],
   "source": [
    "arrondissement.value_counts()"
   ]
  },
  {
   "cell_type": "markdown",
   "metadata": {},
   "source": [
    "## 5 Complément d'adresse\n",
    "La donnée n'est pas pertinente."
   ]
  },
  {
   "cell_type": "code",
   "execution_count": 152,
   "metadata": {},
   "outputs": [
    {
     "data": {
      "text/plain": [
       "array([nan, 'c 12', '12-36', ..., 'au n.14', 'F2bis', '40face'],\n",
       "      dtype=object)"
      ]
     },
     "execution_count": 152,
     "metadata": {},
     "output_type": "execute_result"
    }
   ],
   "source": [
    "adresse = arbres['complement_addresse']\n",
    "adresse.unique()"
   ]
  },
  {
   "cell_type": "code",
   "execution_count": 153,
   "metadata": {},
   "outputs": [
    {
     "data": {
      "text/plain": [
       "SN°         557\n",
       "1           552\n",
       "2           547\n",
       "3           498\n",
       "4           464\n",
       "           ... \n",
       "119bis        1\n",
       "32 bis        1\n",
       "pavillon      1\n",
       "5 (FACE)      1\n",
       "16-09         1\n",
       "Name: complement_addresse, Length: 3795, dtype: int64"
      ]
     },
     "execution_count": 153,
     "metadata": {},
     "output_type": "execute_result"
    }
   ],
   "source": [
    "adresse.value_counts()"
   ]
  },
  {
   "cell_type": "markdown",
   "metadata": {},
   "source": [
    "## 6 Numéro\n",
    "Donnée vide, rempli de NaN."
   ]
  },
  {
   "cell_type": "code",
   "execution_count": 154,
   "metadata": {},
   "outputs": [
    {
     "data": {
      "text/plain": [
       "200137"
      ]
     },
     "execution_count": 154,
     "metadata": {},
     "output_type": "execute_result"
    }
   ],
   "source": [
    "numero = arbres['numero']\n",
    "numero.isna().sum()"
   ]
  },
  {
   "cell_type": "markdown",
   "metadata": {},
   "source": [
    "## 7 Lieu\n",
    "Variable qualitative. </br>\n",
    "Renseigne sur l'endroit où se trouve l'arbre. </br>"
   ]
  },
  {
   "cell_type": "code",
   "execution_count": 155,
   "metadata": {},
   "outputs": [
    {
     "data": {
      "text/plain": [
       "6921"
      ]
     },
     "execution_count": 155,
     "metadata": {},
     "output_type": "execute_result"
    }
   ],
   "source": [
    "lieu = arbres['lieu']\n",
    "len(lieu.unique())"
   ]
  },
  {
   "cell_type": "code",
   "execution_count": 156,
   "metadata": {},
   "outputs": [
    {
     "data": {
      "text/plain": [
       "PARC FLORAL DE PARIS / ROUTE DE LA PYRAMIDE                       2995\n",
       "PARC DES BUTTES CHAUMONT                                          2331\n",
       "PARC ANDRE CITROEN                                                2095\n",
       "PARC OMNISPORT SUZANNE LENGLEN / 7 BOULEVARD DES FRERES VOISIN    1478\n",
       "INSEP / AVENUE DU TREMBLAY                                        1293\n",
       "                                                                  ... \n",
       "RUE GEOFFROY L ASNIER                                                1\n",
       "CIMETIERES DES BATIGNOLLES / DIV 24                                  1\n",
       "LAFAYETTE (216 B) ELEM                                               1\n",
       "JARDIN DU MONUMENT RONSARD                                           1\n",
       "CIMETIERE DE SAINT-OUEN NOUV / AVENUE DE L'OUEST / DIV 6             1\n",
       "Name: lieu, Length: 6921, dtype: int64"
      ]
     },
     "execution_count": 156,
     "metadata": {},
     "output_type": "execute_result"
    }
   ],
   "source": [
    "lieu.value_counts()"
   ]
  },
  {
   "cell_type": "markdown",
   "metadata": {},
   "source": [
    "La variables est très morcellée. Elle ne sera pas très intéressante dans le cadre d'une analyse univariée."
   ]
  },
  {
   "cell_type": "markdown",
   "metadata": {},
   "source": [
    "## 8 Identifiant d'emplacement\n",
    "Variable qualitative."
   ]
  },
  {
   "cell_type": "code",
   "execution_count": 157,
   "metadata": {},
   "outputs": [
    {
     "data": {
      "text/plain": [
       "69040"
      ]
     },
     "execution_count": 157,
     "metadata": {},
     "output_type": "execute_result"
    }
   ],
   "source": [
    "emplacement_id = arbres['id_emplacement']\n",
    "len(emplacement_id.unique())"
   ]
  },
  {
   "cell_type": "code",
   "execution_count": 158,
   "metadata": {},
   "outputs": [
    {
     "data": {
      "text/plain": [
       "101001          1324\n",
       "101002          1241\n",
       "101003          1128\n",
       "202001          1032\n",
       "101004          1020\n",
       "                ... \n",
       "80242              1\n",
       "93302099           1\n",
       "A07000123004       1\n",
       "000J0060           1\n",
       "A11200049012       1\n",
       "Name: id_emplacement, Length: 69040, dtype: int64"
      ]
     },
     "execution_count": 158,
     "metadata": {},
     "output_type": "execute_result"
    }
   ],
   "source": [
    "emplacement_id.value_counts()"
   ]
  },
  {
   "cell_type": "markdown",
   "metadata": {},
   "source": [
    "On note beaucoup d'emplacements et que l'identifiant n'est pas interprétable sans l'association à un lieu. </br>\n",
    "La variable ne sera pas comprise dans l'analyse univariée."
   ]
  },
  {
   "cell_type": "markdown",
   "metadata": {},
   "source": [
    "## 9 Libellé français\n",
    "Variable qualitative donnant le nom français de l'arbre."
   ]
  },
  {
   "cell_type": "code",
   "execution_count": 159,
   "metadata": {},
   "outputs": [
    {
     "data": {
      "text/plain": [
       "array(['Marronnier', 'If', 'Erable', 'Arbre à miel', 'Platane', 'Sophora',\n",
       "       'Prunus n. sp.', 'Hêtre', 'Micocoulier', 'Tilleul', 'Chêne',\n",
       "       'Savonnier', 'Copalme', 'Noyer', 'Arbre à caramel', 'Troene',\n",
       "       'Tulipier', 'Pin', 'Sapin', 'Cerisier à fleurs', 'Charme-Houblon',\n",
       "       'Cèdre', 'Paulownia', 'Thuya', 'Pommier à fleurs', 'Poirier',\n",
       "       'Pommier', 'Bouleau', 'Orme', 'Arbre de Judée', 'Robinier',\n",
       "       'Frêne', 'Aubépine', 'Fevier', 'Prunier à fleurs',\n",
       "       'Arbre aux quarante écus', 'Néflier commun', 'Saule', 'Magnolia',\n",
       "       'Prunier à fruits', 'Poirier à fleurs', 'Peuplier', 'Faux-cyprès',\n",
       "       'Aubepine', nan, 'Plaqueminier', 'Mûrier', 'Pêcher', 'Pterocarya',\n",
       "       'Merisier', 'Noisetier de Byzance', 'Alisier', 'Cognassier',\n",
       "       'Parrotie de Perse - Arbre de fer', 'Poirier à fruits',\n",
       "       'Orme de Sibérie', 'Frêne à fleurs', 'Aulne', 'Troëne',\n",
       "       'Fontanesia', 'Cornouiller', 'Cedrele', 'Catalpa', 'Houx', 'Buis',\n",
       "       'Metaséquoia', 'Chicot du Canada', 'Oranger des Osages',\n",
       "       'Céphalotaxe', 'Sumac', 'Châtaignier', 'Ailante', 'Sequoia',\n",
       "       'Lilas des indes', 'Pterostyrax', 'Eucalyptus', 'Olivier',\n",
       "       'Figuier', 'Charme', 'Sureau', 'Epicéa', 'Sorbier', 'Amélanchier',\n",
       "       'Cytise', 'Filaire', 'Angélique', 'Virgilier', 'Phellodendron',\n",
       "       'Eleagnus - Chalef', 'Pommier à fruits', 'Cabrillet', 'Citronnier',\n",
       "       'Arbre à soie', 'Lilas de Perse', 'Laurier-Cerise',\n",
       "       'Laurier du Portugal', 'Nothofagus', 'Cyprès', 'Noisetier',\n",
       "       'Palmier', 'Muscadier', 'Libocèdre', 'Abelia', 'Photinia',\n",
       "       'Clerodendron', 'Arbre aux mouchoirs', 'Sterculier', 'Poivrier',\n",
       "       'Cyprès Chauve', 'Arbre à Gutta-Percha', 'Nyssa', 'Cotoneaster',\n",
       "       'Olivier odorant', 'Non spécifié', 'Laurier sauce', 'Arbousier',\n",
       "       'Araucaria', 'Cryptomeria', 'Cerisier à grappes', 'Cunninghamia',\n",
       "       'Hiba', 'Chèvrefeuille', 'Raisinier', 'Chitalpa', 'Néflier',\n",
       "       'Pistachier', 'Laburnum de Adam', 'Tapiscia', 'Mélèze', 'Caryer',\n",
       "       'Parrotie de Perse', 'Distylium', 'Tamaris', 'Orme de Samarie',\n",
       "       'Arbre à perruque', 'Chimonanthe', 'Mimosa', 'Cordyline',\n",
       "       'Faux dattier', 'Althéa', 'Cerisier à fruits', 'Amandier', 'Tsuga',\n",
       "       'Stewartia', 'Argousier', 'Papayer', 'Styrax',\n",
       "       'Laurier des Iroquois', 'Laurier', 'Genévrier',\n",
       "       'Heptacodion de Chine', 'Grenadier', 'Sapin Douglas',\n",
       "       'Rhododendron', 'Viorne', 'Cormier', 'Prunellier', 'Poliothyrsis',\n",
       "       'Caragana', 'Asiminier', 'Platycarya', 'Amla', 'Alangium',\n",
       "       'Euscaphis', 'Andromède', 'Sycopsis', 'Camphrier', 'Jujubier',\n",
       "       'Maackie', 'Staphylier', 'Seringas', 'Lilas', 'Fusain',\n",
       "       'Fremontia', 'Nerprun', 'Callistemon', 'Aronie', 'Myrte du Chili',\n",
       "       'Goyavier', 'Genêt', 'Laurier du caucase', 'Prunus Fleur n. sp.',\n",
       "       'Abricotier', 'Prunus Fruit n. sp.', \"Fustet d' Amérique\",\n",
       "       'Idesia', 'Laurier des Açores', 'Kalopanax', 'Ormeau épineux',\n",
       "       'Ostryer', 'Xanthoceras', 'Parrotiopsis', 'Garrya'], dtype=object)"
      ]
     },
     "execution_count": 159,
     "metadata": {},
     "output_type": "execute_result"
    }
   ],
   "source": [
    "libelle = arbres['libelle_francais']\n",
    "libelle.unique()"
   ]
  },
  {
   "cell_type": "code",
   "execution_count": 160,
   "metadata": {},
   "outputs": [
    {
     "data": {
      "text/plain": [
       "Platane                 42508\n",
       "Marronnier              25207\n",
       "Tilleul                 21305\n",
       "Erable                  18389\n",
       "Sophora                 11797\n",
       "Frêne                    5171\n",
       "Pin                      4844\n",
       "Micocoulier              4201\n",
       "Chêne                    3866\n",
       "Cerisier à fleurs        3767\n",
       "Charme                   3471\n",
       "Poirier à fleurs         3409\n",
       "Noisetier de Byzance     3372\n",
       "Peuplier                 3314\n",
       "Robinier                 2305\n",
       "Name: libelle_francais, dtype: int64"
      ]
     },
     "execution_count": 160,
     "metadata": {},
     "output_type": "execute_result"
    }
   ],
   "source": [
    "libelle.value_counts().head(15)"
   ]
  },
  {
   "cell_type": "code",
   "execution_count": 208,
   "metadata": {},
   "outputs": [
    {
     "data": {
      "text/plain": [
       "192"
      ]
     },
     "execution_count": 208,
     "metadata": {},
     "output_type": "execute_result"
    }
   ],
   "source": [
    "len(libelle.value_counts())"
   ]
  },
  {
   "cell_type": "markdown",
   "metadata": {},
   "source": [
    "On dénombre 192 nom d'arbres. Il y a des catégories dominantes et un grand nombre de catégorié très rares."
   ]
  },
  {
   "cell_type": "markdown",
   "metadata": {},
   "source": [
    "## 10 Genre\n",
    "Variable qualitative."
   ]
  },
  {
   "cell_type": "code",
   "execution_count": 161,
   "metadata": {},
   "outputs": [
    {
     "data": {
      "text/plain": [
       "array(['Aesculus', 'Taxus', 'Acer', 'Tetradium', 'Platanus', 'Sophora',\n",
       "       'Prunus', 'Fagus', 'Celtis', 'Tilia', 'Quercus', 'Koelreuteria',\n",
       "       'Liquidambar', 'Juglans', 'Cercidiphyllum', 'Ligustrum',\n",
       "       'Liriodendron', 'Pinus', 'Abies', 'Ostrya', 'Cedrus', 'Paulownia',\n",
       "       'Thuja', 'Malus', 'Pyrus', 'Betula', 'Ulmus', 'Cercis', 'Robinia',\n",
       "       'Fraxinus', 'Crataegus', 'Gleditsia', 'Ginkgo', 'Mespilus',\n",
       "       'Salix', 'Magnolia', 'Populus', 'Chamaecyparis', 'Diospyros',\n",
       "       'Morus', 'Pterocarya', 'Corylus', 'Sorbus', 'Cydonia', 'Parrotia',\n",
       "       'Zelkova', 'Alnus', 'Cladrastis', 'Fontanesia', 'Cornus', 'Toona',\n",
       "       'Catalpa', 'Ilex', 'Buxus', 'Metasequoia', 'Gymnocladus',\n",
       "       'Maclura', 'Cephalotaxus', 'Rhus', 'Castanea', 'Ailanthus',\n",
       "       'Broussonetia', 'Sequoiadendron', 'Lagerstroemia', 'Pterostyrax',\n",
       "       'Eucalyptus', 'Olea', 'Ficus', 'Carpinus', 'Sambucus', 'Picea',\n",
       "       'Amelanchier', 'Laburnum', 'Phillyrea', 'Sequoia', 'Aralia',\n",
       "       'Phellodendron', 'Elaeagnus', 'Ehretia', 'Poncirus', 'Albizia',\n",
       "       'Melia', 'Nothofagus', 'Cupressus', 'Trachycarpus', 'Platycladus',\n",
       "       'Torreya', 'Calocedrus', 'Abelia', 'Staphylea', 'Photinia',\n",
       "       'Clerodendrum', 'Davidia', 'Firmiana', 'Zanthoxylum', 'Taxodium',\n",
       "       'Eucommia', 'Nyssa', 'Cotoneaster', 'Osmanthus',\n",
       "       'x Cupressocyparis', 'Non spécifié', 'Laurus', 'Arbutus',\n",
       "       'Araucaria', 'Cryptomeria', 'Cunninghamia', 'Thujopsis',\n",
       "       'Lonicera', 'Hovenia', 'x Chitalpa', 'Eriobotrya', 'Pistacia',\n",
       "       'Laburnocytisus', 'Tapiscia', 'Larix', 'Carya', 'Distylium',\n",
       "       'Tamarix', 'Ptelea', 'Cotinus', 'Chimonanthus', 'Acacia',\n",
       "       'Washingtonia', 'Brahea', 'Cordyline', 'Phoenix', 'Hibiscus',\n",
       "       'Tsuga', 'Stewartia', 'Paraserianthes', 'Hippophae', 'Carica',\n",
       "       'Styrax', 'Sassafras', 'Juniperus', 'Heptacodium', 'Punica',\n",
       "       'Pseudotsuga', 'Rhododendron', 'Viburnum', 'Poliothyrsis',\n",
       "       'Caragana', 'Asimina', 'Platycarya', 'Phyllanthus', 'Alangium',\n",
       "       'Euscaphis', 'Enkianthus', 'Sycopsis', 'Cinnamomum', 'Ziziphus',\n",
       "       'Maackia', 'Philadelphus', 'Syringa', 'Euonymus', 'Acca',\n",
       "       'Fremontodendron', 'Rhamnus', 'Callistemon', 'Aronia', 'Luma',\n",
       "       'Genista', 'Brachychiton', 'Idesia', 'Kalopanax', nan,\n",
       "       'Hemiptelea', 'x Sorbopyrus', 'Xanthoceras', 'Sciadopitys',\n",
       "       'Parrotiopsis', 'Podocarpus', 'Chionanthus', 'Garrya',\n",
       "       'Crataegomespilus'], dtype=object)"
      ]
     },
     "execution_count": 161,
     "metadata": {},
     "output_type": "execute_result"
    }
   ],
   "source": [
    "genre = arbres['genre']\n",
    "genre.unique()"
   ]
  },
  {
   "cell_type": "code",
   "execution_count": 162,
   "metadata": {},
   "outputs": [
    {
     "data": {
      "text/plain": [
       "Platanus     42591\n",
       "Aesculus     25341\n",
       "Tilia        21550\n",
       "Acer         18471\n",
       "Sophora      11830\n",
       "             ...  \n",
       "Genista          1\n",
       "Ziziphus         1\n",
       "Stewartia        1\n",
       "Phoenix          1\n",
       "Maackia          1\n",
       "Name: genre, Length: 175, dtype: int64"
      ]
     },
     "execution_count": 162,
     "metadata": {},
     "output_type": "execute_result"
    }
   ],
   "source": [
    "genre.value_counts()"
   ]
  },
  {
   "cell_type": "markdown",
   "metadata": {},
   "source": [
    "175 genres sont présents, on reconnait des catégories proches du libellé français."
   ]
  },
  {
   "cell_type": "markdown",
   "metadata": {},
   "source": [
    "## 11 Espèce\n",
    "Variable qualitative."
   ]
  },
  {
   "cell_type": "code",
   "execution_count": 163,
   "metadata": {},
   "outputs": [
    {
     "data": {
      "text/plain": [
       "array(['hippocastanum', 'baccata', 'negundo', 'daniellii', 'x hispanica',\n",
       "       'japonica', 'n. sp.', 'sylvatica', 'occidentalis', 'tomentosa',\n",
       "       'robur', 'paniculata', 'rufinerve', 'styraciflua', 'nigra',\n",
       "       'japonicum', 'lucidum', 'tulipifera', 'concolor', 'saccharinum',\n",
       "       'x europaea', 'platyphyllos', 'platanoides', 'serrulata',\n",
       "       'carpinifolia', 'libani', 'wallichiana', 'floribunda', 'pendula',\n",
       "       'siliquastrum', 'pseudoacacia', 'excelsior', 'laevigata',\n",
       "       'pseudoplatanus', 'triacanthos', 'cerasifera', 'campestre',\n",
       "       'biloba', 'buergerianum', 'germanica', 'cerris', 'regia',\n",
       "       'sylvestris', 'rubra', 'nigra subsp. nigra', 'alba',\n",
       "       'tataricum subsp. ginnala', 'domestica', 'calleryana',\n",
       "       'cappadocicum', 'x carnea', 'lawsoniana', 'x turneri', 'utilis',\n",
       "       'maackii', 'kaki', 'cordata', 'persica', 'fraxinifolia',\n",
       "       'frainetto', 'avium', 'x soulangeana', 'colurna', 'torminalis',\n",
       "       'petraea', 'ilex', 'oblonga', 'davidii', 'communis',\n",
       "       'monspessulanum', 'papyrifera', 'kobus', 'suber', 'phellos',\n",
       "       'canariensis', 'ornus', 'glutinosa', 'castaneifolia', 'babylonica',\n",
       "       'capillipes', 'minor', 'x media', 'henryana', 'phillyreoides',\n",
       "       'opalus', 'mas', 'sinensis', 'bignonioides',\n",
       "       'triacanthos f. Inermis', 'australis', 'aquifolium', 'grandiflora',\n",
       "       'sempervirens', 'incana', 'babylonica var. pekinensis',\n",
       "       'sargentii', 'macrophyllum', nan, 'glyptostroboides', 'deodara',\n",
       "       'dioica', 'pomifera', 'harringtonii', 'typhina', 'sativa',\n",
       "       'x subhirtella', 'heldreichii', 'giraldii', 'giganteum', 'indica',\n",
       "       'aria', 'hispida', 'caprea', 'mongolica', 'gunnii', 'europaea',\n",
       "       'monogyna', 'carica', 'betulus', 'pungens f. Glauca',\n",
       "       'x arnoldiana', 'x loebneri', 'lamarckii', 'controversa',\n",
       "       'salicifolia', 'anagyroides', 'latifolia', 'americana',\n",
       "       'spectabilis', 'spinosa', 'kousa', 'deltoides', 'amurense',\n",
       "       'angustifolia', 'pumila', 'altissima', 'dicksonii', 'aucuparia',\n",
       "       'lotus', 'trifoliata', 'julibrissin', 'azedarach', 'laurocerasus',\n",
       "       'mahaleb', 'kentukea', 'rubrum', 'lusitanica', 'trilobata',\n",
       "       'obliqua', 'abies', 'palmatum', 'pauciflora', 'plicata',\n",
       "       'arizonica', 'avellana', 'fortunei', 'pinsapo', 'orientalis',\n",
       "       'griseum', 'pungens', 'strobus', 'simonii', 'decurrens',\n",
       "       'x spaethii', 'triflorum', 'triflora', 'lasiocarpa', 'colchica',\n",
       "       'florida', 'x fraseri', 'tremula', 'trichotomum',\n",
       "       'libani subsp. atlantica', 'serrata', 'nigra subsp. laricio',\n",
       "       'imbricaria', 'nootkatensis', 'virginiana', 'dentata',\n",
       "       'stenoptera', 'xerubescens', 'involucrata', 'simplex',\n",
       "       'californica', 'simulans', 'distichum', 'ulmoides',\n",
       "       'rosmarinifolia', 'intermedia', 'x burkwoodii', 'leylandii',\n",
       "       'bungeana', 'incisa', 'nobilis', 'araucana', 'pensylvanicum',\n",
       "       'padus', 'x watereri', 'albosinensis', 'macrocarpa', 'flava',\n",
       "       'lanceolata', 'breweriana', 'Fruit n. sp.', 'toringoides',\n",
       "       'denudata', 'dolabrata', 'coccinea', 'dulcis', 'tashkentensis',\n",
       "       'involucrata var. vilmoriniana', 'engelmannii', 'x canadensis',\n",
       "       'variabilis', 'macranthera', 'ermanii', 'nivalis', 'sanguinea',\n",
       "       'x lavalleei', 'x purpurea', 'glabra', 'omorika', 'mariana',\n",
       "       'seguinii', 'funebris', 'numidica', 'crus-galli', 'macrophylla',\n",
       "       'speciosa', 'terebinthus', 'adamii', 'x altaclerensis', 'fargesii',\n",
       "       'pavia', 'acalycina', 'acuminata', 'sinensis Oliv.', 'decidua',\n",
       "       'pinaster', 'transitoria', 'acutissima', 'balearica',\n",
       "       'x rehderiana', 'ovata', 'pictum', 'koraiensis', 'racemosum',\n",
       "       'ramosissima', 'x margaretta', 'pennsylvanica', 'tschonoskii',\n",
       "       'heterophyllus', 'x berolinensis', 'coggygria', 'carpinifolium',\n",
       "       'pubescens', 'praecox', 'tetrandra', 'ioensis', 'stellata',\n",
       "       'arborea', 'ovalifolium', 'dealbata', 'prunifolia', 'parviflora',\n",
       "       'microphylla', 'aucuparia var. edulis', 'pinea', 'chinensis',\n",
       "       'nordmanniana', 'bracteata', 'toringo', 'x atrosanguinea',\n",
       "       'robusta', 'armata', 'wagnerianus', 'chinense', 'laevis',\n",
       "       'x yedoensis', 'canadensis', 'syriacus',\n",
       "       'phillyreoides subsp. fortunei', 'x zoeschense', 'heterophylla',\n",
       "       'kaempferi', 'mandshurica', 'cembra', 'banksiana', 'pyrenaica',\n",
       "       'rysophylla', 'pseudocamellia', 'x schmittii', 'x robusta',\n",
       "       'lenta', 'lophantha', 'populifolia', 'unedo', 'coccifera',\n",
       "       'rhamnoides', 'elata', 'papaya', 'x blireana', 'x zumi',\n",
       "       'officinalis', 'japonicus', 'x rosacea', 'x brooklynensis',\n",
       "       'palustris', 'antarctica var. uliginosa', 'albidum', 'viminalis',\n",
       "       'aurita', 'miconioides', 'purpurea', 'glandulosa', 'granatum',\n",
       "       'trichotomum var. fargesii', 'baccata f. Aurea', 'x thuringiaca',\n",
       "       'jeffreyi', 'alleghaniensis', 'menziesii', 'sieboldii', 'arboreum',\n",
       "       'radiata', 'europea', 'davidiana', 'serrula', 'x Sepulcralis',\n",
       "       'exigua', 'x pendulina', 'tripetala', 'halepensis', 'pisifera',\n",
       "       'pendula var. pendula', 'tinus', 'maximowicziana', 'udensis',\n",
       "       'saccharum', 'maxima', 'mugo', 'freemanii', 'cinerea',\n",
       "       'x canescens', 'fruticosa', 'pekinensis', 'triloba', 'pontica',\n",
       "       'scalaris', 'vilmorinii', 'viscosa', 'quadrangulata', 'umbellata',\n",
       "       'kousa var. chinensis', 'x durettii', 'bicolor',\n",
       "       'suber subsp. Occidentalis', 'augustinii', 'strobilacea',\n",
       "       'yunnanensis', 'glaucus', 'hemsleyanus', 'platanifolium',\n",
       "       'davurica', 'medwediewii', 'turczaninowii', 'henryi',\n",
       "       'x coriaceum', 'camphora', 'jujuba', 'copallina', 'amurensis',\n",
       "       'odoratissimum', 'coronarius', 'nigra subsp. salzmannii',\n",
       "       'humilis', 'antarctica', 'decora', 'x hollandica',\n",
       "       'monogyna var. monogyna', 'europaeus', 'sellowiana', 'vulgaris',\n",
       "       'californicum', 'alaternus', 'chequen', 'x chinensis', 'x ambigua',\n",
       "       'marilandica', 'Fleur n. sp.', 'sinense', 'armeniaca', 'bungei',\n",
       "       'glabra Huds.', 'minor var. vulgaris', 'obovatus', 'vulgare',\n",
       "       'x flavescens', 'illinoinensis', 'pyrifolia', 'x hillieri',\n",
       "       'dasystyla', 'x macrantha', 'acerifolius', 'horizontalis',\n",
       "       'formosana', 'polycarpa', 'x mutabilis', 'x gondouinii',\n",
       "       'lusitanica subsp.azorica', 'dasystyla subsp. caucasica',\n",
       "       'labilis', 'coulteri', 'faginea', 'grandis', 'piperitum', 'obtusa',\n",
       "       'kiusiana', 'oliveri', 'x libanerris', 'trojana', 'septemlobus',\n",
       "       'oliverianum', 'rufa', 'sieboldianum', 'liliiflora', 'sabiniana',\n",
       "       'hypoleuca', 'circinatum', 'sprengeri', 'x proctoriana',\n",
       "       'maximowiczianum', 'corymbosa', 'jessoensis',\n",
       "       'baccata var. mandshurica', 'sinica', 'potaninii', 'serotina',\n",
       "       'persica var.nucipersica', 'tricuspidata', 'biondii',\n",
       "       'occidentalis var. reticulata', 'diabolicum', 'turbinata',\n",
       "       'hyrcanum', 'x conspicuum', 'major', 'hirsuta', 'x colurnoides',\n",
       "       'x erubescens', 'tenuifolia', 'vestita', 'hybrida', 'acerifolia',\n",
       "       'bipinnata', 'americanum', 'duclouxii', 'velutina', 'x flaccida',\n",
       "       'sorbifolium', 'pardei', 'cilicica', 'koreana', 'nebrodensis',\n",
       "       'verticillata', 'cissifolium', 'wilsonii', 'jacquemontiana',\n",
       "       'cathayana', 'rigida', 'densiflora', 'ponderosa', 'monophylla',\n",
       "       'x ebbingei', 'vilmoriniana', 'cathartica', 'viridis',\n",
       "       'chrysocarpa var. phoenicea', 'x lettermanii', 'x sorbifolia',\n",
       "       'x persimilis', 'tournefortii', 'contorta var. latifolia',\n",
       "       'acutifolia', 'procera', 'ailantifolia', 'microcarpa',\n",
       "       'macrophyllus', 'sabina', 'gemmata', 'recurvata', 'cephalonica',\n",
       "       'homolepis', 'smithiana', 'koyamai', 'glauca', 'obovata',\n",
       "       'glehnii', 'likiangensis', 'sitchensis', 'asperata', 'schrenkiana',\n",
       "       'biltmoreana', 'retusus', 'rhytidophyllum', 'elliptica',\n",
       "       'brevifolia', 'miqueliana', 'x marschlinsii', 'verniciflua',\n",
       "       'myrtilloides', 'fragilis', 'x bixbyi', 'cordiformis',\n",
       "       'trichocarpa', 'rhoifolia', 'forrestii', 'luminifera',\n",
       "       'x caerulea', 'platyphylla', 'curdica', 'x neglecta', 'fecunda',\n",
       "       'canbyi', 'spathulata', 'aprica', 'ambigua', 'venustula',\n",
       "       'rotundifolia var. aboriginum', 'champlainensis',\n",
       "       'szechuanica var. tibetica', 'taurica', 'muehlenbergii',\n",
       "       'ithaburensis var. macrolepis', 'lobata', 'x kewensis',\n",
       "       'ilicifolia', 'x heterophylla', 'falcata',\n",
       "       'delavayi subsp. potaninii'], dtype=object)"
      ]
     },
     "execution_count": 163,
     "metadata": {},
     "output_type": "execute_result"
    }
   ],
   "source": [
    "espece = arbres['espece']\n",
    "espece.unique()"
   ]
  },
  {
   "cell_type": "code",
   "execution_count": 164,
   "metadata": {},
   "outputs": [
    {
     "data": {
      "text/plain": [
       "x hispanica       36409\n",
       "hippocastanum     20039\n",
       "japonica          11822\n",
       "n. sp.             9063\n",
       "tomentosa          8962\n",
       "                  ...  \n",
       "x rosacea             1\n",
       "spathulata            1\n",
       "cathayana             1\n",
       "x bixbyi              1\n",
       "pseudocamellia        1\n",
       "Name: espece, Length: 539, dtype: int64"
      ]
     },
     "execution_count": 164,
     "metadata": {},
     "output_type": "execute_result"
    }
   ],
   "source": [
    "espece.value_counts()"
   ]
  },
  {
   "cell_type": "markdown",
   "metadata": {},
   "source": [
    "Une variable très détaillée avec 539 catégories."
   ]
  },
  {
   "cell_type": "markdown",
   "metadata": {},
   "source": [
    "## 12 Variété\n",
    "Variable qualitative."
   ]
  },
  {
   "cell_type": "code",
   "execution_count": 165,
   "metadata": {},
   "outputs": [
    {
     "data": {
      "text/plain": [
       "array([nan, \"Atropunicea'\", \"Euchlora'\", \"Schwedleri'\", \"Pissardii'\",\n",
       "       \"Pallida'\", 'n. sp.', \"Chanticleer'\", \"Purpureum'\", \"Italica'\",\n",
       "       \"Aspleniifolia'\", \"Jacquemontii'\", \"Fastigiata'\",\n",
       "       \"Fastigiate Koster'\", \"Imperialis'\", \"Honey Dew'\",\n",
       "       \"Jacqueline Hillier'\", \"Rubra Plena'\", \"Diversifolia'\",\n",
       "       \"Flamingo'\", \"Argentea Marginata'\", \"Pendula'\", \"Liempde'\",\n",
       "       \"Pyramidalis'\", \"Tortuosa'\", \"Aurea'\", \"Frisia'\", \"Leopoldii'\",\n",
       "       \"Aldenhamensis'\", \"Briotii'\", \"Kanzan'\", \"Variegata'\", \"Hizakura'\",\n",
       "       \"Albomarginata'\", \"Bradford'\", \"Autumnalis Rosea'\",\n",
       "       \"Atropurpurea'\", \"Castanaefolia'\", \"Eddie's White Wonder'\",\n",
       "       \"Autumnalis'\", \"Heaven Scent'\", \"Schouten'\", \"Sundew'\",\n",
       "       \"Leonard messel'\", \"Merrill'\", \"Plena'\", \"Unifolia'\", \"Accolade'\",\n",
       "       \"Baumannii'\", \"Virginiana'\", \"Flying Dragon'\", \"Laciniata'\",\n",
       "       \"Laciniatum'\", \"Globosum'\", \"Rohanii'\", \"Golden Hornet'\",\n",
       "       \"Glauca'\", \"Youngii'\", \"Contorta'\", \"Umbraculifera'\", \"Jaspidea'\",\n",
       "       \"Spaeth'\", \"Flekova'\", \"Regent'\", \"Atrovirens'\", \"Purpurea'\",\n",
       "       \"Alba'\", \"Paul's Scarlet Hamlet'\", \"Lutea'\", \"Dawyck'\",\n",
       "       \"Sapporo Autumn Gold' RESISTA\", \"Totem'\", \"Erythrocladum'\",\n",
       "       \"Masu-kagami'\", \"Vossii'\", \"Atropurpureum'\", \"Farlake's Green'\",\n",
       "       \"Elegans'\", \"Fugenzo'\", \"Shôgetsu'\", \"Elsrijk'\", \"Evereste'\",\n",
       "       \"Alba Superba'\", \"Splendens'\", \"Raywood'\", \"Taihaku'\",\n",
       "       \"Drummondii'\", \"Minsum' SUMMER BELLS\", \"Smaragd'\",\n",
       "       \"Nanguen' LUTECE\", \"Laciniatum Wieri'\", \"Digitata'\",\n",
       "       \"Sandraudiga'\", \"Bessoniana'\", \"Carrierei'\", \"Boubri'\",\n",
       "       \"Niedzwetzkyana'\", \"John Downie'\", \"Meczek'\", \"Stricta'\",\n",
       "       \"Doorenbos'\", \"Vestita'\", \"Robusta'\", \"Aurea Pendula'\",\n",
       "       \"Salicifolia'\", \"Lane'\", \"Riversii'\", \"Prinz Handjery'\",\n",
       "       \"Ambrozyana'\", \"Pulverulenta'\", \"Duclouxii'\", \"Obovata'\",\n",
       "       \"Olmsted'\", \"Shirotae'\", \"Aberdoniae'\", \"Thornhayes Tansy'\",\n",
       "       \"Purpurea Pendula'\", \"Weschcke'\", \"Hibernica'\", \"Vanessa'\",\n",
       "       \"Neapolitanum'\", \"Coluteoides'\", \"Brabant'\", \"Amanogawa'\",\n",
       "       \"Glauca Elegans'\", \"Memmingeri'\", \"Aureovariegata'\",\n",
       "       \"Pink Cascade' CASQUE ROUGE\", \"Monophylla'\", \"Tiefurt'\",\n",
       "       \"Watereri'\", \"Variegatum'\", \"Sunburst'\", \"Crimson King'\",\n",
       "       \"Esveld Select'\", \"Amber Beauty'\", \"Shubert'\", \"Robin Hill'\",\n",
       "       \"Punicea'\", \"Bon Accueil'\", \"Hilsop'\", \"Umineko'\", \"Ballerina'\",\n",
       "       \"Kiku-shidare-zakura'\", \"Galissonnière'\", \"Negenia'\", \"Hokusai'\",\n",
       "       \"Chermesina'\", \"Majestica'\", \"Arie Peters'\", \"Forest Pansy'\",\n",
       "       \"Oiseau Bleu'\", \"Fairview'\", \"Naruto'\", \"Rubra'\",\n",
       "       \"Paus Johannes-Paulus II'\", \"Annae'\", \"October Glory'\", \"Nova'\",\n",
       "       \"Hillieri'\", \"Autumn Flame'\", \"Souvenir de Courson'\", \"Gibsii'\",\n",
       "       \"Balaton'\", \"Scanlon'\", \"Rubrum'\", \"Schlesingeri'\", \"Cimmzam'\",\n",
       "       \"Summit'\", \"Maya'\", \"Paul's Scarlet'\", \"Eleyi'\", \"Desmon'\",\n",
       "       \"Courtarou'\", \"Saratoga'\", \"Raket'\", \"Worplesdon'\", \"Rudolph'\",\n",
       "       \"Red Sentinel'\", \"Purpurea Tricolor'\", \"Klara Mayer'\", \"Minsum'\",\n",
       "       \"Cleveland'\", \"Sericea'\", \"Crispa'\", \"Elegantissima'\",\n",
       "       \"Calliprinos'\", \"Rosea Nova'\", \"Professor Sprenger'\", \"Columna'\",\n",
       "       \"Falicifolia'\", \"Yellow Bird'\", \"Dovastoniana'\", \"Flore Pleno'\",\n",
       "       \"Columnaris'\", \"Zebrina'\", \"Alumii'\", \"Descyr'\", \"Koster'\",\n",
       "       \"Alba Plena'\", \"Redspire'\", \"Westhof's Glorie'\", \"Postelense'\",\n",
       "       \"Joppi'\", \"Zlatia'\", \"Goblin'\", \"Grandidentata'\", \"Roseum'\",\n",
       "       \"Aureomarginatum'\", \"Ombrella'\", \"Lennei'\", \"Fastigiatum'\",\n",
       "       \"Okame'\", \"Aglandau'\", \"Macrophylla'\", \"Tempelhof'\",\n",
       "       \"Magnificum Nakai'\", \"Squarrosa'\", \"Globosa Nana'\", \"Red Robin'\",\n",
       "       \"Royal Burgundy'\", \"Lico'\", \"Dawyck Purple'\", \"Ferox'\",\n",
       "       \"Jeffersred'\", \"Skyline'\", \"Pyramidale'\", \"Afghanica'\",\n",
       "       \"Aucubifolia'\", \"Deborah'\", \"Albertii'\", \"Colorata'\",\n",
       "       \"Luisa Lady'\", \"Atlantica Aurea'\", \"Princeton sentry'\", \"Blush'\",\n",
       "       \"Quercifolia'\", \"Wageningeri'\", \"Gracilis'\", \"Tristan'\",\n",
       "       \"Nizetii'\", \"Kojou-no-mai'\", \"Concordia'\", \"Rotundifolia'\",\n",
       "       \"Conspicua'\", \"Aureum'\", \"Theodonensis'\", \"Thunberg'\", \"Matsuma'\",\n",
       "       \"Erecta viridis'\", \"Clanbrassiliana'\", \"Macrophyllum'\",\n",
       "       \"Cipressino Pyramidal'\", \"Nociara'\", \"Leoccino'\", \"Gold Bark'\",\n",
       "       \"Speciosa'\", \"Buergeri'\", \"Nannetensis'\", \"Royal red'\",\n",
       "       \"Pendula Rubra'\", \"Lemoinei'\", \"Bigarreau blanc'\",\n",
       "       \"Bigarreau Hatif Burlat'\", \"Bigarreau Napoleon' NAPOLEON\",\n",
       "       \"Hedelfingen Riesenkirsche'\", \"Beurré Hardy'\",\n",
       "       \"Bon chrétien Williams'\", \"Soldat Laboureur'\", \"Chat rôti'\",\n",
       "       \"Transparente de Croncels'\", \"King of the Pippins'\",\n",
       "       \"Peasgood's Nonsuch'\", \"Calville blanc'\", \"Glauca Pendula'\",\n",
       "       \"Pembury Blue'\", \"Dampieri'\", \"Vranja'\",\n",
       "       \"Mostapfel President Descourt'\", \"Flekova' GREEN VASE\",\n",
       "       \"Columnare'\", \"Greenspire'\", \"Ellwoodii'\", \"Reine Claude'\",\n",
       "       \"Altena'\", \"Hamabo'\", \"Argenteovariegata'\", \"Kkho1' HOT PINK\",\n",
       "       \"Saugeana'\", \"Alaska'\", \"Porlock'\", \"Quetsche d'Alsace'\",\n",
       "       \"Nicoline'\", \"Mirabelle'\", \"Flore Roseo Pleno'\", \"Nigra'\",\n",
       "       \"Caucasica'\", \"Otto Luyken'\", \"Decaisneana'\", \"Marginata'\",\n",
       "       'RESISTA', \"Wanoux' VADA\", \"Nanguen'\", \"New Horizon' RESISTA\",\n",
       "       \"Jeffersred' AUTUMN BLAZE\", \"Schone van Boskoop' BELLE DE BOSKOOP\",\n",
       "       'PLATANOR®', \"Fruitless'\", \"Granny Smith'\", \"Conference'\",\n",
       "       \"Golden' n.sp.\", \"Bergeron'\", \"Warrenred' PACIFIC SUNSET\",\n",
       "       \"Bonne Louise d'Avranches'\", \"Champion'\", \"Sanguine Vineuse'\",\n",
       "       \"Oxford'\", \"Sainte Catherine'\", \"Kidd's Orange Red'\", \"Polonais'\",\n",
       "       \"Luizet'\", \"Winter Gold'\", \"Dissectum'\", \"Austriaca'\",\n",
       "       \"Nelly Stevens'\", \"Profusion'\", \"Atlantica Glauca'\", \"Nanum'\",\n",
       "       \"Frans Fontaine'\", \"Glenleven'\", \"Minaret'\", \"Erecta'\", \"Spire'\",\n",
       "       \"Sunset Boulevard'\", \"Henk Vink'\", \"Rheinland'\", \"Jonagold'\",\n",
       "       \"Album'\", \"Bloodgood'\", \"Emerald Queen'\", \"Aconitifolium'\",\n",
       "       \"Nivea'\", \"Splender Silhouette'\", \"Monticola'\", \"Nana'\", \"Induta'\",\n",
       "       \"Schnee'\", \"Bruchem'\", \"Teton de Vénus'\", \"Reine des Vergers'\",\n",
       "       \"Bondy'\", \"Belle de Pontoise'\", \"Melrose'\", \"Court Pendu Gris'\",\n",
       "       \"Lambertin n°1'\", \"Le Curé'\", \"Comtesse de Paris'\",\n",
       "       \"Conseiller à la Cour'\", \"Ananas Reinette'\", \"Bonne de Bry'\",\n",
       "       \"Mirabelle de Nancy'\", \"Reine Claude Tardive de Chambourcy'\",\n",
       "       \"Williams'\", \"Cox's Orange'\", \"Reinette Abry'\", \"Groseille'\",\n",
       "       \"Beurré Clairgeau'\", \"Doyenné du Comice' COMICE\",\n",
       "       \"Reinette Clochard'\", \"Hatif Colomer'\", \"Susan'\",\n",
       "       \"Reinette du Mans'\", \"Cockleshell'\", \"Lucombeana'\", \"Rubylace'\",\n",
       "       \"Fukubana'\", \"Williams' WILLIAMS ROUGE\", \"Borowitsky'\",\n",
       "       \"Baumann's Reinette'\", \"Fastigia'\", \"Aurea Marginata'\",\n",
       "       \"Green Spire'\", \"Atlantica Glauca Pendula'\", \"Villa Taranto'\",\n",
       "       \"Osakazuki'\", \"Shin-deshôjô'\", \"Starking'\", \"Grand Champion'\",\n",
       "       \"Reinette Grise du Canada'\", \"Duc de Bordeaux'\",\n",
       "       \"Reinette de Caux'\", \"Shinseiki'\", \"Grand Alexandre'\",\n",
       "       \"De l'Estre'\", \"Akane'\", \"Winter Banana'\", \"Drap d'Or'\",\n",
       "       \"Belle de Louvain'\", \"Redhaven'\", \"Grosse Mignonne'\", \"Idared'\",\n",
       "       \"Gloster'\", \"Belle Fleur Jaune'\", \"Duchesse d'Angoulême'\",\n",
       "       \"Calville Rouge d'Hiver'\", \"Elstar'\", \"Général Leclerc'\",\n",
       "       \"Calville rouge'\", \"Reinette du Canada'\", \"Golden Delicious'\",\n",
       "       \"Beurré Lebrun'\", \"Précoce de Saumur'\", \"Aprikose von Nancy'\",\n",
       "       \"Princess'\", \"Clapp's Favourite'\", \"Api Rose'\", \"Canada Rouge'\",\n",
       "       \"Madeleine des deux Saisons'\", \"Fuji'\", \"Passe Crassane'\",\n",
       "       \"Sucrée de Montluçon'\", \"Reinette Blanche du Canada'\",\n",
       "       \"Pyramidalis Alba'\", \"Lemon Pippin'\", \"Docteur Jules Guyot'\",\n",
       "       \"Patte de Loup'\", \"Reine Claude Dorée'\", \"Topred'\",\n",
       "       \"Précoce de Trévoux'\", \"Morton'\", \"Amsden'\", \"Tenroy' ROYAL GALA\",\n",
       "       \"Webb's Prize Cob'\", \"Triomphe de Vienne'\", \"Chantecler'\",\n",
       "       \"Professeur Vilaine'\", \"Grosse Pomme Noire'\"], dtype=object)"
      ]
     },
     "execution_count": 165,
     "metadata": {},
     "output_type": "execute_result"
    }
   ],
   "source": [
    "variete = arbres['variete']\n",
    "variete.unique()"
   ]
  },
  {
   "cell_type": "code",
   "execution_count": 166,
   "metadata": {},
   "outputs": [
    {
     "data": {
      "text/plain": [
       "Baumannii'             4538\n",
       "Briotii'               2827\n",
       "Euchlora'              2756\n",
       "Chanticleer'           2595\n",
       "Fastigiata'            2483\n",
       "                       ... \n",
       "Hamabo'                   1\n",
       "Pyramidalis Alba'         1\n",
       "Red Sentinel'             1\n",
       "Thornhayes Tansy'         1\n",
       "Aprikose von Nancy'       1\n",
       "Name: variete, Length: 436, dtype: int64"
      ]
     },
     "execution_count": 166,
     "metadata": {},
     "output_type": "execute_result"
    }
   ],
   "source": [
    "variete.value_counts()"
   ]
  },
  {
   "cell_type": "markdown",
   "metadata": {},
   "source": [
    "De nouveau une variable très détaillée avec 436 catégories."
   ]
  },
  {
   "cell_type": "markdown",
   "metadata": {},
   "source": [
    "## 13 Circonférence"
   ]
  },
  {
   "cell_type": "code",
   "execution_count": 167,
   "metadata": {},
   "outputs": [
    {
     "data": {
      "text/plain": [
       "count    200137.000000\n",
       "mean         83.380479\n",
       "std         673.190213\n",
       "min           0.000000\n",
       "25%          30.000000\n",
       "50%          70.000000\n",
       "75%         115.000000\n",
       "max      250255.000000\n",
       "Name: circonference_cm, dtype: float64"
      ]
     },
     "execution_count": 167,
     "metadata": {},
     "output_type": "execute_result"
    }
   ],
   "source": [
    "circonference = arbres['circonference_cm']\n",
    "circonference.describe()\n",
    "       "
   ]
  },
  {
   "cell_type": "markdown",
   "metadata": {},
   "source": [
    "On identifie des données erronées avec des unités de mesures inexactes. La variable sera pollué par ces mesures difficiles à identifier et donc à éliminer."
   ]
  },
  {
   "cell_type": "markdown",
   "metadata": {},
   "source": [
    "## 14 Hauteur"
   ]
  },
  {
   "cell_type": "code",
   "execution_count": 168,
   "metadata": {},
   "outputs": [
    {
     "data": {
      "text/plain": [
       "count    200137.000000\n",
       "mean         13.110509\n",
       "std        1971.217387\n",
       "min           0.000000\n",
       "25%           5.000000\n",
       "50%           8.000000\n",
       "75%          12.000000\n",
       "max      881818.000000\n",
       "Name: hauteur_m, dtype: float64"
      ]
     },
     "execution_count": 168,
     "metadata": {},
     "output_type": "execute_result"
    }
   ],
   "source": [
    "hauteur = arbres['hauteur_m']\n",
    "hauteur.describe()"
   ]
  },
  {
   "cell_type": "code",
   "execution_count": 169,
   "metadata": {},
   "outputs": [
    {
     "data": {
      "text/plain": [
       "5392      1510\n",
       "6473       117\n",
       "12536      255\n",
       "12755       96\n",
       "15373      810\n",
       "          ... \n",
       "189053     150\n",
       "189441     157\n",
       "189518     105\n",
       "197136     125\n",
       "197146     105\n",
       "Name: hauteur_m, Length: 235, dtype: int64"
      ]
     },
     "execution_count": 169,
     "metadata": {},
     "output_type": "execute_result"
    }
   ],
   "source": [
    "hauteur[hauteur>80]"
   ]
  },
  {
   "cell_type": "markdown",
   "metadata": {},
   "source": [
    "Même constat que pour la circonférence sur des données dans une mauvaise unité de mesure."
   ]
  },
  {
   "cell_type": "markdown",
   "metadata": {},
   "source": [
    "## 15 Stade de développement\n",
    "Variable qualitative\n",
    "J pour Jeune, JA pour Jeune Adulte, A pour Adulte et M pour Mature."
   ]
  },
  {
   "cell_type": "code",
   "execution_count": 170,
   "metadata": {},
   "outputs": [
    {
     "data": {
      "text/plain": [
       "array([nan, 'A', 'J', 'M', 'JA'], dtype=object)"
      ]
     },
     "execution_count": 170,
     "metadata": {},
     "output_type": "execute_result"
    }
   ],
   "source": [
    "stade = arbres['stade_developpement']\n",
    "stade.unique()"
   ]
  },
  {
   "cell_type": "code",
   "execution_count": 171,
   "metadata": {},
   "outputs": [
    {
     "data": {
      "text/plain": [
       "A     64438\n",
       "JA    35444\n",
       "J     26937\n",
       "M      6113\n",
       "Name: stade_developpement, dtype: int64"
      ]
     },
     "execution_count": 171,
     "metadata": {},
     "output_type": "execute_result"
    }
   ],
   "source": [
    "stade.value_counts()"
   ]
  },
  {
   "cell_type": "markdown",
   "metadata": {},
   "source": [
    "## 16 Remarquable\n",
    "Variable qualitative binaire."
   ]
  },
  {
   "cell_type": "code",
   "execution_count": 172,
   "metadata": {},
   "outputs": [
    {
     "data": {
      "text/plain": [
       "array([ 0., nan,  1.])"
      ]
     },
     "execution_count": 172,
     "metadata": {},
     "output_type": "execute_result"
    }
   ],
   "source": [
    "remarquable = arbres['remarquable']\n",
    "remarquable.unique()"
   ]
  },
  {
   "cell_type": "code",
   "execution_count": 173,
   "metadata": {},
   "outputs": [
    {
     "data": {
      "text/plain": [
       "0.0    136855\n",
       "1.0       184\n",
       "Name: remarquable, dtype: int64"
      ]
     },
     "execution_count": 173,
     "metadata": {},
     "output_type": "execute_result"
    }
   ],
   "source": [
    "remarquable.value_counts()"
   ]
  },
  {
   "cell_type": "markdown",
   "metadata": {},
   "source": [
    "## 17 Latitude"
   ]
  },
  {
   "cell_type": "code",
   "execution_count": 174,
   "metadata": {},
   "outputs": [
    {
     "data": {
      "text/plain": [
       "count    200137.000000\n",
       "mean         48.854491\n",
       "std           0.030234\n",
       "min          48.742290\n",
       "25%          48.835021\n",
       "50%          48.854162\n",
       "75%          48.876447\n",
       "max          48.911485\n",
       "Name: geo_point_2d_a, dtype: float64"
      ]
     },
     "execution_count": 174,
     "metadata": {},
     "output_type": "execute_result"
    }
   ],
   "source": [
    "latitude = arbres['geo_point_2d_a']\n",
    "latitude.describe()"
   ]
  },
  {
   "cell_type": "markdown",
   "metadata": {},
   "source": [
    "## 18 Longitude"
   ]
  },
  {
   "cell_type": "code",
   "execution_count": 175,
   "metadata": {},
   "outputs": [
    {
     "data": {
      "text/plain": [
       "count    200137.000000\n",
       "mean          2.348208\n",
       "std           0.051220\n",
       "min           2.210241\n",
       "25%           2.307530\n",
       "50%           2.351095\n",
       "75%           2.386838\n",
       "max           2.469759\n",
       "Name: geo_point_2d_b, dtype: float64"
      ]
     },
     "execution_count": 175,
     "metadata": {},
     "output_type": "execute_result"
    }
   ],
   "source": [
    "longitude = arbres['geo_point_2d_b']\n",
    "longitude.describe()"
   ]
  },
  {
   "cell_type": "markdown",
   "metadata": {},
   "source": [
    "Les données sont consistantes, proches des coordonnées de Paris"
   ]
  },
  {
   "cell_type": "markdown",
   "metadata": {},
   "source": [
    "# Traitement et nettoyage des données"
   ]
  },
  {
   "cell_type": "markdown",
   "metadata": {},
   "source": [
    "## Suppression de doublon"
   ]
  },
  {
   "cell_type": "code",
   "execution_count": 176,
   "metadata": {},
   "outputs": [],
   "source": [
    "# coordonnees = []\n",
    "# indices = []\n",
    "# for i in range(len(latitude)):\n",
    "#     if (latitude[i], longitude[i]) in coordonnees:\n",
    "#         j = coordonnees.index((latitude[i], longitude[i]))\n",
    "#         indices.append([i, j])\n",
    "#     coordonnees.append((latitude[i], longitude[i]))\n",
    "# len(latitude) - len(set(coordonnees)) # Nombre de doublons"
   ]
  },
  {
   "cell_type": "code",
   "execution_count": 177,
   "metadata": {},
   "outputs": [
    {
     "name": "stdout",
     "output_type": "stream",
     "text": [
      "[[10100, 10099], [76385, 12794], [76386, 12795], [76387, 12796], [185480, 185479], [188304, 188269], [189134, 189133], [193017, 193007], [193577, 188329], [193586, 188426], [193587, 188427]]\n"
     ]
    }
   ],
   "source": [
    "indices = [[10100, 10099], [76385, 12794], [76386, 12795], [76387, 12796], [185480, 185479], [188304, 188269], [189134, 189133], [193017, 193007], [193577, 188329], [193586, 188426], [193587, 188427]]\n",
    "print(indices)"
   ]
  },
  {
   "cell_type": "code",
   "execution_count": 178,
   "metadata": {},
   "outputs": [
    {
     "name": "stdout",
     "output_type": "stream",
     "text": [
      "112287                        | 112286\n",
      "Arbre                         | Arbre\n",
      "Jardin                        | Jardin\n",
      "PARIS 12E ARRDT               | PARIS 12E ARRDT\n",
      "nan                           | nan\n",
      "nan                           | nan\n",
      "JARDIN PARTAGE BEL-AIR        | JARDIN PARTAGE BEL-AIR\n",
      "6                             | 5\n",
      "Ailante                       | Ailante\n",
      "Ailanthus                     | Ailanthus\n",
      "altissima                     | altissima\n",
      "nan                           | nan\n",
      "0                             | 0\n",
      "0                             | 0\n",
      "nan                           | nan\n",
      "nan                           | nan\n",
      "48.8383178014                 | 48.8383178014\n",
      "2.4066099032                  | 2.4066099032\n",
      "------------------------------------------------------------\n",
      "195525                        | 115338\n",
      "Arbre                         | Arbre\n",
      "PERIPHERIQUE                  | Jardin\n",
      "PARIS 19E ARRDT               | PARIS 19E ARRDT\n",
      "nan                           | nan\n",
      "nan                           | nan\n",
      "VOIE DF/19                    | VOIE DF19\n",
      "09VO19001                     | 1\n",
      "Peuplier                      | Peuplier\n",
      "Populus                       | Populus\n",
      "nigra                         | nigra\n",
      "Italica'                      | nan\n",
      "120                           | 120\n",
      "20                            | 20\n",
      "nan                           | nan\n",
      "nan                           | nan\n",
      "48.9003323864                 | 48.9003323864\n",
      "2.386440691                   | 2.386440691\n",
      "------------------------------------------------------------\n",
      "195526                        | 115339\n",
      "Arbre                         | Arbre\n",
      "PERIPHERIQUE                  | Jardin\n",
      "PARIS 19E ARRDT               | PARIS 19E ARRDT\n",
      "nan                           | nan\n",
      "nan                           | nan\n",
      "VOIE DF/19                    | VOIE DF19\n",
      "09VO19002                     | 2\n",
      "Peuplier                      | Peuplier\n",
      "Populus                       | Populus\n",
      "nigra                         | nigra\n",
      "Italica'                      | nan\n",
      "100                           | 100\n",
      "20                            | 20\n",
      "nan                           | nan\n",
      "nan                           | nan\n",
      "48.9002898761                 | 48.9002898761\n",
      "2.3864424879                  | 2.3864424879\n",
      "------------------------------------------------------------\n",
      "195527                        | 115340\n",
      "Arbre                         | Arbre\n",
      "PERIPHERIQUE                  | Jardin\n",
      "PARIS 19E ARRDT               | PARIS 19E ARRDT\n",
      "nan                           | nan\n",
      "nan                           | nan\n",
      "VOIE DF/19                    | VOIE DF19\n",
      "09VO19003                     | 3\n",
      "Peuplier                      | Peuplier\n",
      "Populus                       | Populus\n",
      "nigra                         | nigra\n",
      "Italica'                      | nan\n",
      "165                           | 165\n",
      "20                            | 20\n",
      "nan                           | nan\n",
      "nan                           | nan\n",
      "48.9002534452                 | 48.9002534452\n",
      "2.386444295                   | 2.386444295\n",
      "------------------------------------------------------------\n",
      "2006188                       | 2006187\n",
      "Arbre                         | Arbre\n",
      "Alignement                    | Alignement\n",
      "BOIS DE VINCENNES             | BOIS DE VINCENNES\n",
      "nan                           | nan\n",
      "nan                           | nan\n",
      "ROUTE DAUPHINE                | ROUTE DAUPHINE\n",
      "402030                        | 402029\n",
      "Tilleul                       | Tilleul\n",
      "Tilia                         | Tilia\n",
      "platyphyllos                  | platyphyllos\n",
      "nan                           | nan\n",
      "0                             | 0\n",
      "0                             | 0\n",
      "nan                           | nan\n",
      "0.0                           | 0.0\n",
      "48.8299116435                 | 48.8299116435\n",
      "2.4396646786                  | 2.4396646786\n",
      "------------------------------------------------------------\n",
      "2010609                       | 2010572\n",
      "Arbre                         | Arbre\n",
      "Jardin                        | Jardin\n",
      "BOIS DE VINCENNES             | BOIS DE VINCENNES\n",
      "nan                           | nan\n",
      "nan                           | nan\n",
      "PARC FLORAL DE PARIS / ROUTE DE LA PYRAMIDE| PARC FLORAL DE PARIS / ROUTE DE LA PYRAMIDE\n",
      "20023                         | 20012\n",
      "Platane                       | Platane\n",
      "Platanus                      | Platanus\n",
      "x hispanica                   | x hispanica\n",
      "nan                           | nan\n",
      "190                           | 195\n",
      "24                            | 18\n",
      "A                             | A\n",
      "0.0                           | 0.0\n",
      "48.8391178324                 | 48.8391178324\n",
      "2.4388095007                  | 2.4388095007\n",
      "------------------------------------------------------------\n",
      "2011523                       | 2011522\n",
      "Arbre                         | Arbre\n",
      "Jardin                        | Jardin\n",
      "BOIS DE VINCENNES             | BOIS DE VINCENNES\n",
      "nan                           | nan\n",
      "nan                           | nan\n",
      "PARC FLORAL DE PARIS / ROUTE DE LA PYRAMIDE| PARC FLORAL DE PARIS / ROUTE DE LA PYRAMIDE\n",
      "190042                        | 190042\n",
      "Peuplier                      | Peuplier\n",
      "Populus                       | Populus\n",
      "nigra                         | nigra\n",
      "Italica'                      | nan\n",
      "100                           | 0\n",
      "22                            | 0\n",
      "A                             | nan\n",
      "0.0                           | 0.0\n",
      "48.8364163184                 | 48.8364163184\n",
      "2.4462772713                  | 2.4462772713\n",
      "------------------------------------------------------------\n",
      "2015806                       | 2015795\n",
      "Arbre                         | Arbre\n",
      "Jardin                        | Jardin\n",
      "BOIS DE VINCENNES             | BOIS DE VINCENNES\n",
      "nan                           | nan\n",
      "nan                           | nan\n",
      "PARC FLORAL DE PARIS / ROUTE DE LA PYRAMIDE| PARC FLORAL DE PARIS / ROUTE DE LA PYRAMIDE\n",
      "3120005                       | 3120004\n",
      "Pin                           | Prunus n. sp.\n",
      "Pinus                         | Prunus\n",
      "nigra                         | n. sp.\n",
      "nan                           | nan\n",
      "0                             | 0\n",
      "0                             | 0\n",
      "nan                           | nan\n",
      "0.0                           | 0.0\n",
      "48.8395605679                 | 48.8395605679\n",
      "2.4462101058                  | 2.4462101058\n",
      "------------------------------------------------------------\n",
      "2016369                       | 2010634\n",
      "Arbre                         | Arbre\n",
      "Jardin                        | Jardin\n",
      "BOIS DE VINCENNES             | BOIS DE VINCENNES\n",
      "nan                           | nan\n",
      "nan                           | nan\n",
      "PARC FLORAL DE PARIS / ROUTE DE LA PYRAMIDE| PARC FLORAL DE PARIS / ROUTE DE LA PYRAMIDE\n",
      "210035                        | 210034\n",
      "Pommier à fleurs              | Hêtre\n",
      "Malus                         | Fagus\n",
      "trilobata                     | sylvatica\n",
      "nan                           | Rotundifolia'\n",
      "0                             | 75\n",
      "0                             | 8\n",
      "nan                           | JA\n",
      "0.0                           | 0.0\n",
      "48.8368616192                 | 48.8368616192\n",
      "2.4465184682                  | 2.4465184682\n",
      "------------------------------------------------------------\n",
      "2016378                       | 2010731\n",
      "Arbre                         | Arbre\n",
      "Jardin                        | Jardin\n",
      "BOIS DE VINCENNES             | BOIS DE VINCENNES\n",
      "nan                           | nan\n",
      "nan                           | nan\n",
      "PARC FLORAL DE PARIS / ROUTE DE LA PYRAMIDE| PARC FLORAL DE PARIS / ROUTE DE LA PYRAMIDE\n",
      "20128                         | 20068\n",
      "Cèdre                         | Cèdre\n",
      "Cedrus                        | Cedrus\n",
      "libani subsp. atlantica       | libani subsp. atlantica\n",
      "nan                           | nan\n",
      "0                             | 160\n",
      "0                             | 20\n",
      "nan                           | A\n",
      "0.0                           | 0.0\n",
      "48.8385499225                 | 48.8385499225\n",
      "2.4392675665                  | 2.4392675665\n",
      "------------------------------------------------------------\n",
      "2016379                       | 2010732\n",
      "Arbre                         | Arbre\n",
      "Jardin                        | Jardin\n",
      "BOIS DE VINCENNES             | BOIS DE VINCENNES\n",
      "nan                           | nan\n",
      "nan                           | nan\n",
      "PARC FLORAL DE PARIS / ROUTE DE LA PYRAMIDE| PARC FLORAL DE PARIS / ROUTE DE LA PYRAMIDE\n",
      "20129                         | 20069\n",
      "Cèdre                         | Cèdre\n",
      "Cedrus                        | Cedrus\n",
      "libani subsp. atlantica       | libani subsp. atlantica\n",
      "nan                           | nan\n",
      "0                             | 110\n",
      "0                             | 18\n",
      "nan                           | A\n",
      "0.0                           | 0.0\n",
      "48.8385387431                 | 48.8385387431\n",
      "2.4393499922                  | 2.4393499922\n",
      "------------------------------------------------------------\n"
     ]
    }
   ],
   "source": [
    "for indice in indices:\n",
    "    for j in range(len(arbres.iloc[indice[0], :])):\n",
    "        print(str(arbres.iloc[indice[0], j]) + ' ' * (30 - len(str(arbres.iloc[indice[0], j]))) + '| ' + str(arbres.iloc[indice[1], j]))\n",
    "    print(\"-\" * 60)"
   ]
  },
  {
   "cell_type": "markdown",
   "metadata": {},
   "source": [
    "### Choix sur les potentiels doublons :\n",
    "\n",
    "  - 10100, 10099   : Les lignes se suivent et contiennent les mêmes informations : suppression de la ligne 10 099.\n",
    "  - 76385, 12794   : Lignes concordantes, deux différences  : suppression de la ligne 76 385.\n",
    "  - 76386, 12795   :                ,,                      : suppression de la ligne 76 386.\n",
    "  - 76387, 12796   :                ,,                      : suppression de la ligne 76 387.\n",
    "  - 185480, 185479 : Les lignes se suivent et contiennent les mêmes informations : suppression de la ligne 185 480.\n",
    "  - 188304, 188269 : Les lignes sont relativement proches   : suppression de la ligne 188 304\n",
    "  - 189134, 189133 : Les lignes se suivent et concordent : suppression de la ligne la moins détailée : 189 133.\n",
    "  - 193017, 193007 : Les données diffèrent. Aucune suppression.\n",
    "  - 193577, 188329 : Les données diffèrent. Aucune suppression.\n",
    "  - 193586, 188426 : Les lignes concordent. Suppression de la ligne la moins détailée : 193 586.\n",
    "  - 193587, 188427 :                ,,      Suppression de la ligne la moins détailée : 193 587.\n",
    "\n",
    "Bilan : 9 suppressions : 10 099, 76 385, 76 386, 76 387, 185 480, 188 304, 189 133, 193 586, 193 587.\n"
   ]
  },
  {
   "cell_type": "code",
   "execution_count": 179,
   "metadata": {},
   "outputs": [],
   "source": [
    "doublon_index = [10099, 76385, 76386, 76387, 185480, 188304, 189133, 193586, 193587]"
   ]
  },
  {
   "cell_type": "markdown",
   "metadata": {},
   "source": [
    "## Suppression des variables\n",
    "Les colonnes peu ou pas pertinentes sont : </br>\n",
    "['id', 'type_emplacement', 'complement_addresse', 'numero', 'lieu', 'id_emplacement']</br>\n",
    "</br>\n",
    "Les colonnes redondantes sont :</br>\n",
    "['libelle_francais', 'genre', 'espece', 'variete']</br>\n",
    "On conserve 'libelle_francais'.</br>\n",
    "</br>\n",
    "Les colonnes supprimées sont donc :</br>\n",
    "['id', 'complement_addresse', 'numero', 'lieu', 'id_emplacement', 'genre', 'espece', 'variete']"
   ]
  },
  {
   "cell_type": "code",
   "execution_count": 180,
   "metadata": {},
   "outputs": [],
   "source": [
    "arbres = arbres.drop(columns=['id', 'type_emplacement', 'complement_addresse', 'numero', 'lieu', 'id_emplacement', 'genre', 'espece', 'variete'])"
   ]
  },
  {
   "cell_type": "markdown",
   "metadata": {},
   "source": [
    "## Gestion des NaN"
   ]
  },
  {
   "cell_type": "code",
   "execution_count": 181,
   "metadata": {},
   "outputs": [
    {
     "data": {
      "text/plain": [
       "domanialite                1\n",
       "arrondissement             0\n",
       "libelle_francais        1497\n",
       "circonference_cm           0\n",
       "hauteur_m                  0\n",
       "stade_developpement    67205\n",
       "remarquable            63098\n",
       "geo_point_2d_a             0\n",
       "geo_point_2d_b             0\n",
       "dtype: int64"
      ]
     },
     "execution_count": 181,
     "metadata": {},
     "output_type": "execute_result"
    }
   ],
   "source": [
    "arbres.isna().sum()"
   ]
  },
  {
   "cell_type": "markdown",
   "metadata": {},
   "source": [
    "On supprime la ligne dont la 'domanialite' est NaN :"
   ]
  },
  {
   "cell_type": "code",
   "execution_count": 182,
   "metadata": {},
   "outputs": [
    {
     "data": {
      "text/plain": [
       "Int64Index([   528,   1416,   2727,   5282,   5287,   5316,   5350,   5468,\n",
       "              5495,   5496,\n",
       "            ...\n",
       "            200040, 200049, 200077, 200103, 200109, 200120, 200121, 200128,\n",
       "            200129, 200132],\n",
       "           dtype='int64', length=1497)"
      ]
     },
     "execution_count": 182,
     "metadata": {},
     "output_type": "execute_result"
    }
   ],
   "source": [
    "libelle_nan = arbres.index[arbres['libelle_francais'].isna()]\n",
    "libelle_nan"
   ]
  },
  {
   "cell_type": "code",
   "execution_count": 183,
   "metadata": {},
   "outputs": [
    {
     "data": {
      "text/plain": [
       "Int64Index([197239], dtype='int64')"
      ]
     },
     "execution_count": 183,
     "metadata": {},
     "output_type": "execute_result"
    }
   ],
   "source": [
    "domanialite_nan = arbres.index[arbres['domanialite'].isna()]\n",
    "domanialite_nan"
   ]
  },
  {
   "cell_type": "code",
   "execution_count": 184,
   "metadata": {},
   "outputs": [
    {
     "data": {
      "text/plain": [
       "Int64Index([     0,      4,      5,      6,      7,     11,     12,     13,\n",
       "                14,     15,\n",
       "            ...\n",
       "            200127, 200128, 200129, 200130, 200131, 200132, 200133, 200134,\n",
       "            200135, 200136],\n",
       "           dtype='int64', length=67205)"
      ]
     },
     "execution_count": 184,
     "metadata": {},
     "output_type": "execute_result"
    }
   ],
   "source": [
    "developpement_nan = arbres.index[arbres['stade_developpement'].isna()]\n",
    "developpement_nan"
   ]
  },
  {
   "cell_type": "code",
   "execution_count": 185,
   "metadata": {},
   "outputs": [
    {
     "data": {
      "text/plain": [
       "0.0    199953\n",
       "1.0       184\n",
       "Name: remarquable, dtype: int64"
      ]
     },
     "execution_count": 185,
     "metadata": {},
     "output_type": "execute_result"
    }
   ],
   "source": [
    "arbres['remarquable'].fillna(0)\n",
    "arbres['remarquable'] = arbres.remarquable.fillna(0)\n",
    "arbres['remarquable'].value_counts()"
   ]
  },
  {
   "cell_type": "code",
   "execution_count": 186,
   "metadata": {},
   "outputs": [
    {
     "data": {
      "text/plain": [
       "Int64Index([  1778,   2332,   2333,   2405,   2430,   2431,   2432,   2434,\n",
       "              2435,   2436,\n",
       "            ...\n",
       "            200127, 200128, 200129, 200130, 200131, 200132, 200133, 200134,\n",
       "            200135, 200136],\n",
       "           dtype='int64', length=25867)"
      ]
     },
     "execution_count": 186,
     "metadata": {},
     "output_type": "execute_result"
    }
   ],
   "source": [
    "circonference_null = arbres.index[arbres['circonference_cm'] == 0]\n",
    "circonference_null"
   ]
  },
  {
   "cell_type": "code",
   "execution_count": 187,
   "metadata": {},
   "outputs": [
    {
     "data": {
      "text/plain": [
       "Int64Index([     4,      5,      6,     11,     12,     13,     14,     15,\n",
       "                16,     17,\n",
       "            ...\n",
       "            200127, 200128, 200129, 200130, 200131, 200132, 200133, 200134,\n",
       "            200135, 200136],\n",
       "           dtype='int64', length=39219)"
      ]
     },
     "execution_count": 187,
     "metadata": {},
     "output_type": "execute_result"
    }
   ],
   "source": [
    "hauteur_null =arbres.index[arbres['hauteur_m'] == 0]\n",
    "hauteur_null"
   ]
  },
  {
   "cell_type": "markdown",
   "metadata": {},
   "source": [
    "## Valeurs aberrantes\n",
    "\n",
    "Dans les variables catégorielles (arbres remarquables compris), pas de valeurs aberrantes dans le sens où elles sont dans l'une des catégories ou traitées. </br>\n",
    "</br>\n",
    "Il reste donc les variables : circonférence, hauteur et les coordonnées géographiques.</br>\n",
    "</br>\n",
    "Je me base sur ce [site](https://www.unjourdeplusaparis.com/paris-vert/arbres-remarquables-paris) pour déterminer mes valeurs maximales. Je prends une marge sur les valeurs données.</br>\n",
    "</br>\n",
    "Cependant, il faut rester conscient que les données avec des unités erronées ne seront pas toutes supprimées</br>\n",
    "</br>\n",
    "Je fixe :\n",
    " - circonférence maximale 8 m = 8 000 cm\n",
    " - hauteur maximale de 35 m\n",
    "\n",
    "\n"
   ]
  },
  {
   "cell_type": "code",
   "execution_count": 188,
   "metadata": {},
   "outputs": [
    {
     "data": {
      "text/plain": [
       "[71787,\n",
       " 90605,\n",
       " 91256,\n",
       " 97354,\n",
       " 103437,\n",
       " 147235,\n",
       " 147634,\n",
       " 149056,\n",
       " 152303,\n",
       " 160432,\n",
       " 164616,\n",
       " 173343,\n",
       " 4518,\n",
       " 4524,\n",
       " 4534,\n",
       " 4537,\n",
       " 4553,\n",
       " 5392,\n",
       " 5469,\n",
       " 5599,\n",
       " 6473,\n",
       " 10875,\n",
       " 12536,\n",
       " 12696,\n",
       " 12755,\n",
       " 13215,\n",
       " 13224,\n",
       " 14048,\n",
       " 15093,\n",
       " 15167,\n",
       " 15373,\n",
       " 21081,\n",
       " 21097,\n",
       " 21113,\n",
       " 22244,\n",
       " 24099,\n",
       " 24133,\n",
       " 24402,\n",
       " 24403,\n",
       " 24578,\n",
       " 24604,\n",
       " 24605,\n",
       " 24607,\n",
       " 28007,\n",
       " 33983,\n",
       " 34609,\n",
       " 44019,\n",
       " 44050,\n",
       " 44116,\n",
       " 45893,\n",
       " 50414,\n",
       " 55782,\n",
       " 56193,\n",
       " 56200,\n",
       " 56214,\n",
       " 56477,\n",
       " 60613,\n",
       " 63970,\n",
       " 67456,\n",
       " 67692,\n",
       " 67708,\n",
       " 68193,\n",
       " 68681,\n",
       " 69051,\n",
       " 69350,\n",
       " 69846,\n",
       " 69996,\n",
       " 70112,\n",
       " 70553,\n",
       " 70718,\n",
       " 70885,\n",
       " 72268,\n",
       " 72434,\n",
       " 72507,\n",
       " 75444,\n",
       " 76073,\n",
       " 80016,\n",
       " 80719,\n",
       " 82555,\n",
       " 82571,\n",
       " 82574,\n",
       " 82951,\n",
       " 84528,\n",
       " 84554,\n",
       " 84813,\n",
       " 85707,\n",
       " 87091,\n",
       " 87265,\n",
       " 87465,\n",
       " 87634,\n",
       " 87931,\n",
       " 88557,\n",
       " 89007,\n",
       " 90817,\n",
       " 91152,\n",
       " 91711,\n",
       " 92281,\n",
       " 92396,\n",
       " 92524,\n",
       " 92636,\n",
       " 95444,\n",
       " 96002,\n",
       " 96481,\n",
       " 96483,\n",
       " 96572,\n",
       " 96586,\n",
       " 96887,\n",
       " 97326,\n",
       " 97350,\n",
       " 98799,\n",
       " 99572,\n",
       " 100077,\n",
       " 101358,\n",
       " 101824,\n",
       " 101833,\n",
       " 101985,\n",
       " 102132,\n",
       " 102819,\n",
       " 104641,\n",
       " 104838,\n",
       " 105224,\n",
       " 105391,\n",
       " 105392,\n",
       " 105398,\n",
       " 105966,\n",
       " 106493,\n",
       " 107327,\n",
       " 108489,\n",
       " 110784,\n",
       " 110808,\n",
       " 112381,\n",
       " 112784,\n",
       " 113295,\n",
       " 114026,\n",
       " 114473,\n",
       " 115166,\n",
       " 115224,\n",
       " 115295,\n",
       " 115631,\n",
       " 115729,\n",
       " 115733,\n",
       " 115993,\n",
       " 116162,\n",
       " 116249,\n",
       " 117116,\n",
       " 117742,\n",
       " 117777,\n",
       " 118295,\n",
       " 118925,\n",
       " 119393,\n",
       " 119544,\n",
       " 120292,\n",
       " 120370,\n",
       " 120777,\n",
       " 121032,\n",
       " 121466,\n",
       " 121891,\n",
       " 122360,\n",
       " 123093,\n",
       " 123265,\n",
       " 125395,\n",
       " 126732,\n",
       " 127347,\n",
       " 127810,\n",
       " 128916,\n",
       " 129193,\n",
       " 130103,\n",
       " 131000,\n",
       " 131908,\n",
       " 133195,\n",
       " 134472,\n",
       " 134606,\n",
       " 134768,\n",
       " 135528,\n",
       " 135605,\n",
       " 138309,\n",
       " 138564,\n",
       " 139857,\n",
       " 139971,\n",
       " 139981,\n",
       " 140731,\n",
       " 145189,\n",
       " 145359,\n",
       " 146466,\n",
       " 147150,\n",
       " 147229,\n",
       " 147814,\n",
       " 147823,\n",
       " 147941,\n",
       " 147980,\n",
       " 147984,\n",
       " 148042,\n",
       " 148080,\n",
       " 148579,\n",
       " 149496,\n",
       " 150101,\n",
       " 150186,\n",
       " 151364,\n",
       " 151369,\n",
       " 151382,\n",
       " 151443,\n",
       " 151647,\n",
       " 151918,\n",
       " 152110,\n",
       " 152205,\n",
       " 152238,\n",
       " 152339,\n",
       " 152437,\n",
       " 152600,\n",
       " 153036,\n",
       " 153286,\n",
       " 153314,\n",
       " 153404,\n",
       " 153919,\n",
       " 153924,\n",
       " 153967,\n",
       " 154355,\n",
       " 156341,\n",
       " 157762,\n",
       " 158359,\n",
       " 159256,\n",
       " 160304,\n",
       " 160902,\n",
       " 161086,\n",
       " 161873,\n",
       " 162019,\n",
       " 162278,\n",
       " 163607,\n",
       " 163689,\n",
       " 163878,\n",
       " 164322,\n",
       " 164370,\n",
       " 164747,\n",
       " 164972,\n",
       " 165654,\n",
       " 165846,\n",
       " 166916,\n",
       " 166925,\n",
       " 167082,\n",
       " 168580,\n",
       " 170170,\n",
       " 170470,\n",
       " 170672,\n",
       " 170725,\n",
       " 170740,\n",
       " 170744,\n",
       " 170758,\n",
       " 170778,\n",
       " 170784,\n",
       " 170800,\n",
       " 170814,\n",
       " 170837,\n",
       " 171116,\n",
       " 171373,\n",
       " 173675,\n",
       " 174193,\n",
       " 175582,\n",
       " 176090,\n",
       " 179222,\n",
       " 179244,\n",
       " 179300,\n",
       " 179327,\n",
       " 179539,\n",
       " 179560,\n",
       " 179656,\n",
       " 179662,\n",
       " 179796,\n",
       " 179873,\n",
       " 180660,\n",
       " 181736,\n",
       " 181978,\n",
       " 181996,\n",
       " 182007,\n",
       " 182017,\n",
       " 182852,\n",
       " 183249,\n",
       " 183250,\n",
       " 183272,\n",
       " 183387,\n",
       " 184098,\n",
       " 184227,\n",
       " 184587,\n",
       " 184645,\n",
       " 184710,\n",
       " 184737,\n",
       " 184791,\n",
       " 184792,\n",
       " 186531,\n",
       " 186896,\n",
       " 186908,\n",
       " 186979,\n",
       " 187002,\n",
       " 187023,\n",
       " 187035,\n",
       " 187640,\n",
       " 187695,\n",
       " 187696,\n",
       " 187697,\n",
       " 187698,\n",
       " 187699,\n",
       " 187700,\n",
       " 187701,\n",
       " 187702,\n",
       " 187703,\n",
       " 187704,\n",
       " 187705,\n",
       " 187706,\n",
       " 187707,\n",
       " 187708,\n",
       " 187709,\n",
       " 187710,\n",
       " 187711,\n",
       " 187712,\n",
       " 187713,\n",
       " 187714,\n",
       " 187715,\n",
       " 187716,\n",
       " 187717,\n",
       " 187718,\n",
       " 187719,\n",
       " 187720,\n",
       " 187721,\n",
       " 187722,\n",
       " 187723,\n",
       " 187724,\n",
       " 187725,\n",
       " 187726,\n",
       " 187727,\n",
       " 187728,\n",
       " 187729,\n",
       " 187730,\n",
       " 187731,\n",
       " 187732,\n",
       " 187733,\n",
       " 187734,\n",
       " 187735,\n",
       " 187736,\n",
       " 187737,\n",
       " 187738,\n",
       " 187739,\n",
       " 187740,\n",
       " 187741,\n",
       " 187742,\n",
       " 187743,\n",
       " 187744,\n",
       " 187745,\n",
       " 187746,\n",
       " 187747,\n",
       " 187748,\n",
       " 187749,\n",
       " 187750,\n",
       " 187751,\n",
       " 187752,\n",
       " 187753,\n",
       " 187754,\n",
       " 187755,\n",
       " 187756,\n",
       " 187757,\n",
       " 187758,\n",
       " 187759,\n",
       " 187760,\n",
       " 187761,\n",
       " 187762,\n",
       " 187763,\n",
       " 187764,\n",
       " 187765,\n",
       " 187766,\n",
       " 187767,\n",
       " 187768,\n",
       " 187769,\n",
       " 187770,\n",
       " 187771,\n",
       " 187772,\n",
       " 187773,\n",
       " 187774,\n",
       " 187775,\n",
       " 187776,\n",
       " 187777,\n",
       " 187778,\n",
       " 187779,\n",
       " 187780,\n",
       " 187781,\n",
       " 187782,\n",
       " 187783,\n",
       " 187784,\n",
       " 187785,\n",
       " 187786,\n",
       " 187787,\n",
       " 187788,\n",
       " 187789,\n",
       " 187790,\n",
       " 187791,\n",
       " 187792,\n",
       " 187793,\n",
       " 187794,\n",
       " 187795,\n",
       " 187796,\n",
       " 187797,\n",
       " 187798,\n",
       " 187799,\n",
       " 187800,\n",
       " 187801,\n",
       " 187802,\n",
       " 187803,\n",
       " 187804,\n",
       " 187805,\n",
       " 187806,\n",
       " 187807,\n",
       " 187808,\n",
       " 187809,\n",
       " 187810,\n",
       " 187811,\n",
       " 187812,\n",
       " 187813,\n",
       " 187814,\n",
       " 187815,\n",
       " 187816,\n",
       " 187817,\n",
       " 187818,\n",
       " 187819,\n",
       " 187820,\n",
       " 187821,\n",
       " 187822,\n",
       " 187823,\n",
       " 187824,\n",
       " 187825,\n",
       " 187826,\n",
       " 187827,\n",
       " 187828,\n",
       " 187829,\n",
       " 187830,\n",
       " 187831,\n",
       " 187832,\n",
       " 187833,\n",
       " 187834,\n",
       " 187835,\n",
       " 187836,\n",
       " 187837,\n",
       " 187838,\n",
       " 187839,\n",
       " 187840,\n",
       " 187841,\n",
       " 187842,\n",
       " 187843,\n",
       " 187844,\n",
       " 187845,\n",
       " 187846,\n",
       " 187847,\n",
       " 187848,\n",
       " 187849,\n",
       " 187850,\n",
       " 187851,\n",
       " 187852,\n",
       " 187853,\n",
       " 187854,\n",
       " 187855,\n",
       " 187856,\n",
       " 187857,\n",
       " 187858,\n",
       " 187859,\n",
       " 187860,\n",
       " 187861,\n",
       " 187862,\n",
       " 187863,\n",
       " 187864,\n",
       " 187865,\n",
       " 187866,\n",
       " 187867,\n",
       " 187868,\n",
       " 187869,\n",
       " 187870,\n",
       " 187871,\n",
       " 187872,\n",
       " 187873,\n",
       " 187874,\n",
       " 187875,\n",
       " 187876,\n",
       " 187877,\n",
       " 187878,\n",
       " 187879,\n",
       " 187880,\n",
       " 187881,\n",
       " 187882,\n",
       " 187883,\n",
       " 187884,\n",
       " 187885,\n",
       " 187886,\n",
       " 187887,\n",
       " 187888,\n",
       " 187889,\n",
       " 187890,\n",
       " 187891,\n",
       " 187892,\n",
       " 187893,\n",
       " 187894,\n",
       " 187895,\n",
       " 187896,\n",
       " 187897,\n",
       " 187898,\n",
       " 187899,\n",
       " 187900,\n",
       " 187901,\n",
       " 187902,\n",
       " 187903,\n",
       " 187904,\n",
       " 187905,\n",
       " 187906,\n",
       " 188996,\n",
       " 189053,\n",
       " 189201,\n",
       " 189441,\n",
       " 189468,\n",
       " 189518,\n",
       " 194156,\n",
       " 194157,\n",
       " 194182,\n",
       " 194812,\n",
       " 197026,\n",
       " 197060,\n",
       " 197136,\n",
       " 197146]"
      ]
     },
     "execution_count": 188,
     "metadata": {},
     "output_type": "execute_result"
    }
   ],
   "source": [
    "outliers = []\n",
    "outliers.extend(list(arbres.index[arbres['circonference_cm'] > 8000]))\n",
    "outliers.extend(list(arbres.index[arbres['hauteur_m'] > 35]))\n",
    "outliers"
   ]
  },
  {
   "cell_type": "code",
   "execution_count": 189,
   "metadata": {},
   "outputs": [
    {
     "data": {
      "text/plain": [
       "71158"
      ]
     },
     "execution_count": 189,
     "metadata": {},
     "output_type": "execute_result"
    }
   ],
   "source": [
    "deleted_index = list(doublon_index)\n",
    "deleted_index.extend(list(libelle_nan))\n",
    "deleted_index.extend(list(domanialite_nan))\n",
    "deleted_index.extend(list(developpement_nan))\n",
    "deleted_index.extend(list(circonference_null))\n",
    "deleted_index.extend(list(hauteur_null))\n",
    "deleted_index.extend(outliers)\n",
    "len(set(deleted_index))"
   ]
  },
  {
   "cell_type": "code",
   "execution_count": 190,
   "metadata": {},
   "outputs": [
    {
     "data": {
      "text/html": [
       "<div>\n",
       "<style scoped>\n",
       "    .dataframe tbody tr th:only-of-type {\n",
       "        vertical-align: middle;\n",
       "    }\n",
       "\n",
       "    .dataframe tbody tr th {\n",
       "        vertical-align: top;\n",
       "    }\n",
       "\n",
       "    .dataframe thead th {\n",
       "        text-align: right;\n",
       "    }\n",
       "</style>\n",
       "<table border=\"1\" class=\"dataframe\">\n",
       "  <thead>\n",
       "    <tr style=\"text-align: right;\">\n",
       "      <th></th>\n",
       "      <th>domanialite</th>\n",
       "      <th>arrondissement</th>\n",
       "      <th>libelle_francais</th>\n",
       "      <th>circonference_cm</th>\n",
       "      <th>hauteur_m</th>\n",
       "      <th>stade_developpement</th>\n",
       "      <th>remarquable</th>\n",
       "      <th>geo_point_2d_a</th>\n",
       "      <th>geo_point_2d_b</th>\n",
       "    </tr>\n",
       "  </thead>\n",
       "  <tbody>\n",
       "    <tr>\n",
       "      <th>1</th>\n",
       "      <td>Jardin</td>\n",
       "      <td>PARIS 7E ARRDT</td>\n",
       "      <td>If</td>\n",
       "      <td>65</td>\n",
       "      <td>8</td>\n",
       "      <td>A</td>\n",
       "      <td>0.0</td>\n",
       "      <td>48.857656</td>\n",
       "      <td>2.321031</td>\n",
       "    </tr>\n",
       "    <tr>\n",
       "      <th>2</th>\n",
       "      <td>Jardin</td>\n",
       "      <td>PARIS 7E ARRDT</td>\n",
       "      <td>If</td>\n",
       "      <td>90</td>\n",
       "      <td>10</td>\n",
       "      <td>A</td>\n",
       "      <td>0.0</td>\n",
       "      <td>48.857705</td>\n",
       "      <td>2.321061</td>\n",
       "    </tr>\n",
       "    <tr>\n",
       "      <th>3</th>\n",
       "      <td>Jardin</td>\n",
       "      <td>PARIS 7E ARRDT</td>\n",
       "      <td>Erable</td>\n",
       "      <td>60</td>\n",
       "      <td>8</td>\n",
       "      <td>A</td>\n",
       "      <td>0.0</td>\n",
       "      <td>48.857722</td>\n",
       "      <td>2.321006</td>\n",
       "    </tr>\n",
       "    <tr>\n",
       "      <th>8</th>\n",
       "      <td>Jardin</td>\n",
       "      <td>PARIS 16E ARRDT</td>\n",
       "      <td>Sophora</td>\n",
       "      <td>145</td>\n",
       "      <td>14</td>\n",
       "      <td>A</td>\n",
       "      <td>0.0</td>\n",
       "      <td>48.871990</td>\n",
       "      <td>2.275814</td>\n",
       "    </tr>\n",
       "    <tr>\n",
       "      <th>9</th>\n",
       "      <td>Jardin</td>\n",
       "      <td>PARIS 16E ARRDT</td>\n",
       "      <td>Sophora</td>\n",
       "      <td>135</td>\n",
       "      <td>10</td>\n",
       "      <td>A</td>\n",
       "      <td>0.0</td>\n",
       "      <td>48.872046</td>\n",
       "      <td>2.275752</td>\n",
       "    </tr>\n",
       "    <tr>\n",
       "      <th>...</th>\n",
       "      <td>...</td>\n",
       "      <td>...</td>\n",
       "      <td>...</td>\n",
       "      <td>...</td>\n",
       "      <td>...</td>\n",
       "      <td>...</td>\n",
       "      <td>...</td>\n",
       "      <td>...</td>\n",
       "      <td>...</td>\n",
       "    </tr>\n",
       "    <tr>\n",
       "      <th>198859</th>\n",
       "      <td>DJS</td>\n",
       "      <td>PARIS 19E ARRDT</td>\n",
       "      <td>Peuplier</td>\n",
       "      <td>20</td>\n",
       "      <td>5</td>\n",
       "      <td>J</td>\n",
       "      <td>0.0</td>\n",
       "      <td>48.890466</td>\n",
       "      <td>2.397443</td>\n",
       "    </tr>\n",
       "    <tr>\n",
       "      <th>198860</th>\n",
       "      <td>Jardin</td>\n",
       "      <td>PARIS 14E ARRDT</td>\n",
       "      <td>Hêtre</td>\n",
       "      <td>55</td>\n",
       "      <td>7</td>\n",
       "      <td>J</td>\n",
       "      <td>0.0</td>\n",
       "      <td>48.823919</td>\n",
       "      <td>2.337872</td>\n",
       "    </tr>\n",
       "    <tr>\n",
       "      <th>198861</th>\n",
       "      <td>Jardin</td>\n",
       "      <td>PARIS 14E ARRDT</td>\n",
       "      <td>If</td>\n",
       "      <td>55</td>\n",
       "      <td>5</td>\n",
       "      <td>JA</td>\n",
       "      <td>0.0</td>\n",
       "      <td>48.821099</td>\n",
       "      <td>2.338411</td>\n",
       "    </tr>\n",
       "    <tr>\n",
       "      <th>198862</th>\n",
       "      <td>Jardin</td>\n",
       "      <td>PARIS 14E ARRDT</td>\n",
       "      <td>If</td>\n",
       "      <td>75</td>\n",
       "      <td>5</td>\n",
       "      <td>JA</td>\n",
       "      <td>0.0</td>\n",
       "      <td>48.823552</td>\n",
       "      <td>2.337892</td>\n",
       "    </tr>\n",
       "    <tr>\n",
       "      <th>198865</th>\n",
       "      <td>DJS</td>\n",
       "      <td>PARIS 13E ARRDT</td>\n",
       "      <td>Erable</td>\n",
       "      <td>165</td>\n",
       "      <td>11</td>\n",
       "      <td>A</td>\n",
       "      <td>0.0</td>\n",
       "      <td>48.819252</td>\n",
       "      <td>2.370641</td>\n",
       "    </tr>\n",
       "  </tbody>\n",
       "</table>\n",
       "<p>128979 rows × 9 columns</p>\n",
       "</div>"
      ],
      "text/plain": [
       "       domanialite   arrondissement libelle_francais  circonference_cm  \\\n",
       "1           Jardin   PARIS 7E ARRDT               If                65   \n",
       "2           Jardin   PARIS 7E ARRDT               If                90   \n",
       "3           Jardin   PARIS 7E ARRDT           Erable                60   \n",
       "8           Jardin  PARIS 16E ARRDT          Sophora               145   \n",
       "9           Jardin  PARIS 16E ARRDT          Sophora               135   \n",
       "...            ...              ...              ...               ...   \n",
       "198859         DJS  PARIS 19E ARRDT         Peuplier                20   \n",
       "198860      Jardin  PARIS 14E ARRDT            Hêtre                55   \n",
       "198861      Jardin  PARIS 14E ARRDT               If                55   \n",
       "198862      Jardin  PARIS 14E ARRDT               If                75   \n",
       "198865         DJS  PARIS 13E ARRDT           Erable               165   \n",
       "\n",
       "        hauteur_m stade_developpement  remarquable  geo_point_2d_a  \\\n",
       "1               8                   A          0.0       48.857656   \n",
       "2              10                   A          0.0       48.857705   \n",
       "3               8                   A          0.0       48.857722   \n",
       "8              14                   A          0.0       48.871990   \n",
       "9              10                   A          0.0       48.872046   \n",
       "...           ...                 ...          ...             ...   \n",
       "198859          5                   J          0.0       48.890466   \n",
       "198860          7                   J          0.0       48.823919   \n",
       "198861          5                  JA          0.0       48.821099   \n",
       "198862          5                  JA          0.0       48.823552   \n",
       "198865         11                   A          0.0       48.819252   \n",
       "\n",
       "        geo_point_2d_b  \n",
       "1             2.321031  \n",
       "2             2.321061  \n",
       "3             2.321006  \n",
       "8             2.275814  \n",
       "9             2.275752  \n",
       "...                ...  \n",
       "198859        2.397443  \n",
       "198860        2.337872  \n",
       "198861        2.338411  \n",
       "198862        2.337892  \n",
       "198865        2.370641  \n",
       "\n",
       "[128979 rows x 9 columns]"
      ]
     },
     "execution_count": 190,
     "metadata": {},
     "output_type": "execute_result"
    }
   ],
   "source": [
    "arbres_cleaned = arbres.drop(set(deleted_index), axis=0)\n",
    "arbres_cleaned"
   ]
  },
  {
   "cell_type": "code",
   "execution_count": 191,
   "metadata": {},
   "outputs": [
    {
     "data": {
      "text/plain": [
       "domanialite            0\n",
       "arrondissement         0\n",
       "libelle_francais       0\n",
       "circonference_cm       0\n",
       "hauteur_m              0\n",
       "stade_developpement    0\n",
       "remarquable            0\n",
       "geo_point_2d_a         0\n",
       "geo_point_2d_b         0\n",
       "dtype: int64"
      ]
     },
     "execution_count": 191,
     "metadata": {},
     "output_type": "execute_result"
    }
   ],
   "source": [
    "arbres_cleaned.isna().sum()"
   ]
  },
  {
   "cell_type": "code",
   "execution_count": 192,
   "metadata": {},
   "outputs": [],
   "source": [
    "arbres_cleaned = arbres_cleaned.rename(columns={\n",
    "    'libelle_francais': 'espece',\n",
    "    'circonference_cm': 'circonference',\n",
    "    'hauteur_m': 'hauteur',\n",
    "    'stade_developpement': 'stade',\n",
    "    'geo_point_2d_a': 'latitude',\n",
    "    'geo_point_2d_b': 'longitude'})\n",
    "arbres_cleaned = arbres_cleaned.replace(\n",
    "    {\n",
    "        'PARIS 20E ARRDT': 20,\n",
    "        'PARIS 19E ARRDT': 19,\n",
    "        'PARIS 18E ARRDT': 18,\n",
    "        'PARIS 17E ARRDT': 17,\n",
    "        'PARIS 16E ARRDT': 16,\n",
    "        'PARIS 15E ARRDT': 15,\n",
    "        'PARIS 14E ARRDT': 14,\n",
    "        'PARIS 13E ARRDT': 13,\n",
    "        'PARIS 12E ARRDT': 12,\n",
    "        'PARIS 11E ARRDT': 11,\n",
    "        'PARIS 10E ARRDT': 10,\n",
    "        'PARIS 9E ARRDT': 9,\n",
    "        'PARIS 8E ARRDT': 8,\n",
    "        'PARIS 7E ARRDT': 7,\n",
    "        'PARIS 6E ARRDT': 6,\n",
    "        'PARIS 5E ARRDT': 5,\n",
    "        'PARIS 4E ARRDT': 4,\n",
    "        'PARIS 3E ARRDT': 3,\n",
    "        'PARIS 2E ARRDT': 2,\n",
    "        'PARIS 1ER ARRDT': 1,\n",
    "        'VAL-DE-MARNE': 94,\n",
    "        'SEINE-SAINT-DENIS': 93,\n",
    "        'HAUTS-DE-SEINE': 92,\n",
    "        \"DASCO\": \"Ecoles\",\n",
    "        \"DJS\": \"Equipements sportifs\",\n",
    "        \"DFPE\": \"Crèches\",\n",
    "        \"DAC\": \"Equipements culturels\",\n",
    "        \"DASES\": \"Action sociale\",\n",
    "    }\n",
    ")"
   ]
  },
  {
   "cell_type": "markdown",
   "metadata": {},
   "source": [
    "# Synthèse"
   ]
  },
  {
   "cell_type": "code",
   "execution_count": 193,
   "metadata": {},
   "outputs": [
    {
     "data": {
      "text/plain": [
       "Index(['domanialite', 'arrondissement', 'espece', 'circonference', 'hauteur',\n",
       "       'stade', 'remarquable', 'latitude', 'longitude'],\n",
       "      dtype='object')"
      ]
     },
     "execution_count": 193,
     "metadata": {},
     "output_type": "execute_result"
    }
   ],
   "source": [
    "arbres_cleaned.columns"
   ]
  },
  {
   "cell_type": "code",
   "execution_count": 194,
   "metadata": {},
   "outputs": [
    {
     "data": {
      "text/plain": [
       "<AxesSubplot:ylabel='None'>"
      ]
     },
     "execution_count": 194,
     "metadata": {},
     "output_type": "execute_result"
    },
    {
     "data": {
      "image/png": "[encoded data removed]",
      "text/plain": [
       "<Figure size 576x576 with 1 Axes>"
      ]
     },
     "metadata": {},
     "output_type": "display_data"
    }
   ],
   "source": [
    "arbres_cleaned['espece'] = arbres_cleaned['espece'].apply(lambda x: x.split()[0])\n",
    "others = arbres_cleaned.espece.value_counts().sum() - arbres_cleaned.espece.value_counts().head(9).sum()\n",
    "top_espece=arbres_cleaned.espece.value_counts().head(9).append(pd.Series([others], index=[\"Autres\"]))\n",
    "top_espece.plot.pie(legend=True, labels=None, figsize=(8,8))"
   ]
  },
  {
   "cell_type": "code",
   "execution_count": 195,
   "metadata": {},
   "outputs": [
    {
     "data": {
      "text/plain": [
       "<AxesSubplot:ylabel='domanialite'>"
      ]
     },
     "execution_count": 195,
     "metadata": {},
     "output_type": "execute_result"
    },
    {
     "data": {
      "image/png": "[encoded data removed]",
      "text/plain": [
       "<Figure size 576x576 with 1 Axes>"
      ]
     },
     "metadata": {},
     "output_type": "display_data"
    }
   ],
   "source": [
    "arbres_cleaned.domanialite.value_counts().plot.pie(legend=True, labels=None, figsize=(8,8))"
   ]
  },
  {
   "cell_type": "code",
   "execution_count": 196,
   "metadata": {},
   "outputs": [
    {
     "data": {
      "text/plain": [
       "<AxesSubplot:>"
      ]
     },
     "execution_count": 196,
     "metadata": {},
     "output_type": "execute_result"
    },
    {
     "data": {
      "image/png": "[encoded data removed]",
      "text/plain": [
       "<Figure size 432x288 with 1 Axes>"
      ]
     },
     "metadata": {
      "needs_background": "light"
     },
     "output_type": "display_data"
    }
   ],
   "source": [
    "arbres_cleaned.arrondissement.value_counts().plot(kind='bar')"
   ]
  },
  {
   "cell_type": "code",
   "execution_count": 197,
   "metadata": {},
   "outputs": [
    {
     "data": {
      "text/plain": [
       "count    128979.000000\n",
       "mean         97.360981\n",
       "std          74.635960\n",
       "min           1.000000\n",
       "25%          55.000000\n",
       "50%          85.000000\n",
       "75%         130.000000\n",
       "max        6595.000000\n",
       "Name: circonference, dtype: float64"
      ]
     },
     "execution_count": 197,
     "metadata": {},
     "output_type": "execute_result"
    }
   ],
   "source": [
    "arbres_cleaned.circonference.describe()"
   ]
  },
  {
   "cell_type": "code",
   "execution_count": 198,
   "metadata": {},
   "outputs": [],
   "source": [
    "def determine_maxvalue(serie):\n",
    "    q75, q25 = np.percentile(serie, [75 ,25])\n",
    "    iqr = (q75 - q25) * 1.5\n",
    "    max = q75 + iqr\n",
    "    return max"
   ]
  },
  {
   "cell_type": "code",
   "execution_count": 199,
   "metadata": {},
   "outputs": [
    {
     "data": {
      "text/plain": [
       "242.5"
      ]
     },
     "execution_count": 199,
     "metadata": {},
     "output_type": "execute_result"
    }
   ],
   "source": [
    "max_circonference = determine_maxvalue(arbres_cleaned['circonference'])\n",
    "max_circonference"
   ]
  },
  {
   "cell_type": "code",
   "execution_count": 200,
   "metadata": {},
   "outputs": [
    {
     "data": {
      "text/plain": [
       "{'whiskers': [<matplotlib.lines.Line2D at 0x1c91ad57850>,\n",
       "  <matplotlib.lines.Line2D at 0x1c91ad57bb0>],\n",
       " 'caps': [<matplotlib.lines.Line2D at 0x1c91ad57f10>,\n",
       "  <matplotlib.lines.Line2D at 0x1c91ad602b0>],\n",
       " 'boxes': [<matplotlib.lines.Line2D at 0x1c91ad574f0>],\n",
       " 'medians': [<matplotlib.lines.Line2D at 0x1c91ad60610>],\n",
       " 'fliers': [<matplotlib.lines.Line2D at 0x1c91ad60970>],\n",
       " 'means': []}"
      ]
     },
     "execution_count": 200,
     "metadata": {},
     "output_type": "execute_result"
    },
    {
     "data": {
      "image/png": "[encoded data removed]",
      "text/plain": [
       "<Figure size 432x288 with 1 Axes>"
      ]
     },
     "metadata": {
      "needs_background": "light"
     },
     "output_type": "display_data"
    }
   ],
   "source": [
    "plt.boxplot(arbres_cleaned['circonference'][arbres_cleaned['circonference']<max_circonference])"
   ]
  },
  {
   "cell_type": "code",
   "execution_count": 201,
   "metadata": {},
   "outputs": [
    {
     "data": {
      "text/plain": [
       "count    128979.000000\n",
       "mean         97.360981\n",
       "std          74.635960\n",
       "min           1.000000\n",
       "25%          55.000000\n",
       "50%          85.000000\n",
       "75%         130.000000\n",
       "max        6595.000000\n",
       "Name: circonference, dtype: float64"
      ]
     },
     "execution_count": 201,
     "metadata": {},
     "output_type": "execute_result"
    }
   ],
   "source": [
    "arbres_cleaned['circonference'].describe()"
   ]
  },
  {
   "cell_type": "code",
   "execution_count": 202,
   "metadata": {},
   "outputs": [
    {
     "data": {
      "text/plain": [
       "<AxesSubplot:>"
      ]
     },
     "execution_count": 202,
     "metadata": {},
     "output_type": "execute_result"
    },
    {
     "data": {
      "image/png": "[encoded data removed]",
      "text/plain": [
       "<Figure size 432x288 with 1 Axes>"
      ]
     },
     "metadata": {
      "needs_background": "light"
     },
     "output_type": "display_data"
    }
   ],
   "source": [
    "arbres_cleaned['circonference'][arbres_cleaned['circonference']<max_circonference].hist()"
   ]
  },
  {
   "cell_type": "code",
   "execution_count": 203,
   "metadata": {},
   "outputs": [
    {
     "data": {
      "text/plain": [
       "{'whiskers': [<matplotlib.lines.Line2D at 0x1c9177ac6a0>,\n",
       "  <matplotlib.lines.Line2D at 0x1c914b29040>],\n",
       " 'caps': [<matplotlib.lines.Line2D at 0x1c91adf38b0>,\n",
       "  <matplotlib.lines.Line2D at 0x1c914b1d4c0>],\n",
       " 'boxes': [<matplotlib.lines.Line2D at 0x1c91adeda90>],\n",
       " 'medians': [<matplotlib.lines.Line2D at 0x1c91d6eddf0>],\n",
       " 'fliers': [<matplotlib.lines.Line2D at 0x1c91ade80d0>],\n",
       " 'means': []}"
      ]
     },
     "execution_count": 203,
     "metadata": {},
     "output_type": "execute_result"
    },
    {
     "data": {
      "image/png": "[encoded data removed]",
      "text/plain": [
       "<Figure size 432x288 with 1 Axes>"
      ]
     },
     "metadata": {
      "needs_background": "light"
     },
     "output_type": "display_data"
    }
   ],
   "source": [
    "plt.boxplot(arbres_cleaned['hauteur'])"
   ]
  },
  {
   "cell_type": "code",
   "execution_count": 204,
   "metadata": {},
   "outputs": [
    {
     "data": {
      "text/plain": [
       "<AxesSubplot:>"
      ]
     },
     "execution_count": 204,
     "metadata": {},
     "output_type": "execute_result"
    },
    {
     "data": {
      "image/png": "[encoded data removed]",
      "text/plain": [
       "<Figure size 432x288 with 1 Axes>"
      ]
     },
     "metadata": {
      "needs_background": "light"
     },
     "output_type": "display_data"
    }
   ],
   "source": [
    "arbres_cleaned['hauteur'].hist()"
   ]
  },
  {
   "cell_type": "code",
   "execution_count": 205,
   "metadata": {},
   "outputs": [
    {
     "data": {
      "text/plain": [
       "<AxesSubplot:ylabel='stade'>"
      ]
     },
     "execution_count": 205,
     "metadata": {},
     "output_type": "execute_result"
    },
    {
     "data": {
      "image/png": "[encoded data removed]",
      "text/plain": [
       "<Figure size 576x576 with 1 Axes>"
      ]
     },
     "metadata": {},
     "output_type": "display_data"
    }
   ],
   "source": [
    "arbres_cleaned['stade'].value_counts().plot.pie(legend=True, labels=None, figsize=(8,8))"
   ]
  },
  {
   "cell_type": "code",
   "execution_count": 206,
   "metadata": {},
   "outputs": [
    {
     "data": {
      "text/plain": [
       "<AxesSubplot:ylabel='libelle_francais'>"
      ]
     },
     "execution_count": 206,
     "metadata": {},
     "output_type": "execute_result"
    },
    {
     "data": {
      "image/png": "[encoded data removed]",
      "text/plain": [
       "<Figure size 576x576 with 1 Axes>"
      ]
     },
     "metadata": {},
     "output_type": "display_data"
    }
   ],
   "source": [
    "arbres_remarquables = arbres[arbres['remarquable']==1]\n",
    "arbres_remarquables['libelle_francais'].value_counts().head(10).plot.pie(legend=True, labels=None, figsize=(8,8))"
   ]
  },
  {
   "cell_type": "code",
   "execution_count": 207,
   "metadata": {},
   "outputs": [
    {
     "data": {
      "text/plain": [
       "<matplotlib.collections.PathCollection at 0x1c91b881c40>"
      ]
     },
     "execution_count": 207,
     "metadata": {},
     "output_type": "execute_result"
    },
    {
     "data": {
      "image/png": "[encoded data removed]",
      "text/plain": [
       "<Figure size 432x288 with 1 Axes>"
      ]
     },
     "metadata": {
      "needs_background": "light"
     },
     "output_type": "display_data"
    }
   ],
   "source": [
    "plt.scatter(arbres_cleaned['longitude'], arbres_cleaned['latitude'])\n"
   ]
  }
 ],
 "metadata": {
  "interpreter": {
   "hash": "188876abb8f3079811fafb6c6dfd1d669f6ae51ce836fd321d38bb57ac34efda"
  },
  "kernelspec": {
   "display_name": "Python 3.8.10 64-bit ('env': venv)",
   "name": "python3"
  },
  "language_info": {
   "codemirror_mode": {
    "name": "ipython",
    "version": 3
   },
   "file_extension": ".py",
   "mimetype": "text/x-python",
   "name": "python",
   "nbconvert_exporter": "python",
   "pygments_lexer": "ipython3",
   "version": "3.8.8"
  },
  "orig_nbformat": 4
 },
 "nbformat": 4,
 "nbformat_minor": 2
}
